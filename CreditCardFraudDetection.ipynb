{
  "nbformat": 4,
  "nbformat_minor": 0,
  "metadata": {
    "colab": {
      "name": "CreditCardFraudDetection.ipynb",
      "provenance": [],
      "collapsed_sections": []
    },
    "kernelspec": {
      "name": "python3",
      "display_name": "Python 3"
    },
    "language_info": {
      "name": "python"
    }
  },
  "cells": [
    {
      "cell_type": "code",
      "metadata": {
        "id": "ezPM2ELqJ8_C"
      },
      "source": [
        "%matplotlib inline\n",
        "import matplotlib.pyplot as plt\n",
        "import scipy.stats as stats\n",
        "import numpy as np\n",
        "import pandas as pd\n",
        "import seaborn as sns\n",
        "plt.style.use('ggplot')"
      ],
      "execution_count": null,
      "outputs": []
    },
    {
      "cell_type": "code",
      "metadata": {
        "id": "FrRPDUF305l5"
      },
      "source": [
        "data = pd.read_csv(\"/content/drive/MyDrive/Colab Notebooks/creditcard.csv\")"
      ],
      "execution_count": null,
      "outputs": []
    },
    {
      "cell_type": "code",
      "metadata": {
        "colab": {
          "base_uri": "https://localhost:8080/"
        },
        "id": "5qPB_3qe_QHV",
        "outputId": "d0bc9027-d566-4161-b818-e9e040bcf71d"
      },
      "source": [
        "from google.colab import drive\n",
        "drive.mount('/content/drive')"
      ],
      "execution_count": null,
      "outputs": [
        {
          "output_type": "stream",
          "name": "stdout",
          "text": [
            "Drive already mounted at /content/drive; to attempt to forcibly remount, call drive.mount(\"/content/drive\", force_remount=True).\n"
          ]
        }
      ]
    },
    {
      "cell_type": "code",
      "metadata": {
        "colab": {
          "base_uri": "https://localhost:8080/",
          "height": 226
        },
        "id": "XKZ4LjVq16GA",
        "outputId": "5a872c26-9878-4b02-dc24-b6a7ce0c95f6"
      },
      "source": [
        "data.head(5)"
      ],
      "execution_count": null,
      "outputs": [
        {
          "output_type": "execute_result",
          "data": {
            "text/html": [
              "<div>\n",
              "<style scoped>\n",
              "    .dataframe tbody tr th:only-of-type {\n",
              "        vertical-align: middle;\n",
              "    }\n",
              "\n",
              "    .dataframe tbody tr th {\n",
              "        vertical-align: top;\n",
              "    }\n",
              "\n",
              "    .dataframe thead th {\n",
              "        text-align: right;\n",
              "    }\n",
              "</style>\n",
              "<table border=\"1\" class=\"dataframe\">\n",
              "  <thead>\n",
              "    <tr style=\"text-align: right;\">\n",
              "      <th></th>\n",
              "      <th>Time</th>\n",
              "      <th>V1</th>\n",
              "      <th>V2</th>\n",
              "      <th>V3</th>\n",
              "      <th>V4</th>\n",
              "      <th>V5</th>\n",
              "      <th>V6</th>\n",
              "      <th>V7</th>\n",
              "      <th>V8</th>\n",
              "      <th>V9</th>\n",
              "      <th>V10</th>\n",
              "      <th>V11</th>\n",
              "      <th>V12</th>\n",
              "      <th>V13</th>\n",
              "      <th>V14</th>\n",
              "      <th>V15</th>\n",
              "      <th>V16</th>\n",
              "      <th>V17</th>\n",
              "      <th>V18</th>\n",
              "      <th>V19</th>\n",
              "      <th>V20</th>\n",
              "      <th>V21</th>\n",
              "      <th>V22</th>\n",
              "      <th>V23</th>\n",
              "      <th>V24</th>\n",
              "      <th>V25</th>\n",
              "      <th>V26</th>\n",
              "      <th>V27</th>\n",
              "      <th>V28</th>\n",
              "      <th>Amount</th>\n",
              "      <th>Class</th>\n",
              "    </tr>\n",
              "  </thead>\n",
              "  <tbody>\n",
              "    <tr>\n",
              "      <th>0</th>\n",
              "      <td>0.0</td>\n",
              "      <td>-1.359807</td>\n",
              "      <td>-0.072781</td>\n",
              "      <td>2.536347</td>\n",
              "      <td>1.378155</td>\n",
              "      <td>-0.338321</td>\n",
              "      <td>0.462388</td>\n",
              "      <td>0.239599</td>\n",
              "      <td>0.098698</td>\n",
              "      <td>0.363787</td>\n",
              "      <td>0.090794</td>\n",
              "      <td>-0.551600</td>\n",
              "      <td>-0.617801</td>\n",
              "      <td>-0.991390</td>\n",
              "      <td>-0.311169</td>\n",
              "      <td>1.468177</td>\n",
              "      <td>-0.470401</td>\n",
              "      <td>0.207971</td>\n",
              "      <td>0.025791</td>\n",
              "      <td>0.403993</td>\n",
              "      <td>0.251412</td>\n",
              "      <td>-0.018307</td>\n",
              "      <td>0.277838</td>\n",
              "      <td>-0.110474</td>\n",
              "      <td>0.066928</td>\n",
              "      <td>0.128539</td>\n",
              "      <td>-0.189115</td>\n",
              "      <td>0.133558</td>\n",
              "      <td>-0.021053</td>\n",
              "      <td>149.62</td>\n",
              "      <td>0</td>\n",
              "    </tr>\n",
              "    <tr>\n",
              "      <th>1</th>\n",
              "      <td>0.0</td>\n",
              "      <td>1.191857</td>\n",
              "      <td>0.266151</td>\n",
              "      <td>0.166480</td>\n",
              "      <td>0.448154</td>\n",
              "      <td>0.060018</td>\n",
              "      <td>-0.082361</td>\n",
              "      <td>-0.078803</td>\n",
              "      <td>0.085102</td>\n",
              "      <td>-0.255425</td>\n",
              "      <td>-0.166974</td>\n",
              "      <td>1.612727</td>\n",
              "      <td>1.065235</td>\n",
              "      <td>0.489095</td>\n",
              "      <td>-0.143772</td>\n",
              "      <td>0.635558</td>\n",
              "      <td>0.463917</td>\n",
              "      <td>-0.114805</td>\n",
              "      <td>-0.183361</td>\n",
              "      <td>-0.145783</td>\n",
              "      <td>-0.069083</td>\n",
              "      <td>-0.225775</td>\n",
              "      <td>-0.638672</td>\n",
              "      <td>0.101288</td>\n",
              "      <td>-0.339846</td>\n",
              "      <td>0.167170</td>\n",
              "      <td>0.125895</td>\n",
              "      <td>-0.008983</td>\n",
              "      <td>0.014724</td>\n",
              "      <td>2.69</td>\n",
              "      <td>0</td>\n",
              "    </tr>\n",
              "    <tr>\n",
              "      <th>2</th>\n",
              "      <td>1.0</td>\n",
              "      <td>-1.358354</td>\n",
              "      <td>-1.340163</td>\n",
              "      <td>1.773209</td>\n",
              "      <td>0.379780</td>\n",
              "      <td>-0.503198</td>\n",
              "      <td>1.800499</td>\n",
              "      <td>0.791461</td>\n",
              "      <td>0.247676</td>\n",
              "      <td>-1.514654</td>\n",
              "      <td>0.207643</td>\n",
              "      <td>0.624501</td>\n",
              "      <td>0.066084</td>\n",
              "      <td>0.717293</td>\n",
              "      <td>-0.165946</td>\n",
              "      <td>2.345865</td>\n",
              "      <td>-2.890083</td>\n",
              "      <td>1.109969</td>\n",
              "      <td>-0.121359</td>\n",
              "      <td>-2.261857</td>\n",
              "      <td>0.524980</td>\n",
              "      <td>0.247998</td>\n",
              "      <td>0.771679</td>\n",
              "      <td>0.909412</td>\n",
              "      <td>-0.689281</td>\n",
              "      <td>-0.327642</td>\n",
              "      <td>-0.139097</td>\n",
              "      <td>-0.055353</td>\n",
              "      <td>-0.059752</td>\n",
              "      <td>378.66</td>\n",
              "      <td>0</td>\n",
              "    </tr>\n",
              "    <tr>\n",
              "      <th>3</th>\n",
              "      <td>1.0</td>\n",
              "      <td>-0.966272</td>\n",
              "      <td>-0.185226</td>\n",
              "      <td>1.792993</td>\n",
              "      <td>-0.863291</td>\n",
              "      <td>-0.010309</td>\n",
              "      <td>1.247203</td>\n",
              "      <td>0.237609</td>\n",
              "      <td>0.377436</td>\n",
              "      <td>-1.387024</td>\n",
              "      <td>-0.054952</td>\n",
              "      <td>-0.226487</td>\n",
              "      <td>0.178228</td>\n",
              "      <td>0.507757</td>\n",
              "      <td>-0.287924</td>\n",
              "      <td>-0.631418</td>\n",
              "      <td>-1.059647</td>\n",
              "      <td>-0.684093</td>\n",
              "      <td>1.965775</td>\n",
              "      <td>-1.232622</td>\n",
              "      <td>-0.208038</td>\n",
              "      <td>-0.108300</td>\n",
              "      <td>0.005274</td>\n",
              "      <td>-0.190321</td>\n",
              "      <td>-1.175575</td>\n",
              "      <td>0.647376</td>\n",
              "      <td>-0.221929</td>\n",
              "      <td>0.062723</td>\n",
              "      <td>0.061458</td>\n",
              "      <td>123.50</td>\n",
              "      <td>0</td>\n",
              "    </tr>\n",
              "    <tr>\n",
              "      <th>4</th>\n",
              "      <td>2.0</td>\n",
              "      <td>-1.158233</td>\n",
              "      <td>0.877737</td>\n",
              "      <td>1.548718</td>\n",
              "      <td>0.403034</td>\n",
              "      <td>-0.407193</td>\n",
              "      <td>0.095921</td>\n",
              "      <td>0.592941</td>\n",
              "      <td>-0.270533</td>\n",
              "      <td>0.817739</td>\n",
              "      <td>0.753074</td>\n",
              "      <td>-0.822843</td>\n",
              "      <td>0.538196</td>\n",
              "      <td>1.345852</td>\n",
              "      <td>-1.119670</td>\n",
              "      <td>0.175121</td>\n",
              "      <td>-0.451449</td>\n",
              "      <td>-0.237033</td>\n",
              "      <td>-0.038195</td>\n",
              "      <td>0.803487</td>\n",
              "      <td>0.408542</td>\n",
              "      <td>-0.009431</td>\n",
              "      <td>0.798278</td>\n",
              "      <td>-0.137458</td>\n",
              "      <td>0.141267</td>\n",
              "      <td>-0.206010</td>\n",
              "      <td>0.502292</td>\n",
              "      <td>0.219422</td>\n",
              "      <td>0.215153</td>\n",
              "      <td>69.99</td>\n",
              "      <td>0</td>\n",
              "    </tr>\n",
              "  </tbody>\n",
              "</table>\n",
              "</div>"
            ],
            "text/plain": [
              "   Time        V1        V2        V3  ...       V27       V28  Amount  Class\n",
              "0   0.0 -1.359807 -0.072781  2.536347  ...  0.133558 -0.021053  149.62      0\n",
              "1   0.0  1.191857  0.266151  0.166480  ... -0.008983  0.014724    2.69      0\n",
              "2   1.0 -1.358354 -1.340163  1.773209  ... -0.055353 -0.059752  378.66      0\n",
              "3   1.0 -0.966272 -0.185226  1.792993  ...  0.062723  0.061458  123.50      0\n",
              "4   2.0 -1.158233  0.877737  1.548718  ...  0.219422  0.215153   69.99      0\n",
              "\n",
              "[5 rows x 31 columns]"
            ]
          },
          "metadata": {},
          "execution_count": 5
        }
      ]
    },
    {
      "cell_type": "code",
      "metadata": {
        "colab": {
          "base_uri": "https://localhost:8080/"
        },
        "id": "ja8RIJt34sg6",
        "outputId": "6babc1a4-1daf-4878-ff9d-cecd5ad7b918"
      },
      "source": [
        "data.info()"
      ],
      "execution_count": null,
      "outputs": [
        {
          "output_type": "stream",
          "name": "stdout",
          "text": [
            "<class 'pandas.core.frame.DataFrame'>\n",
            "RangeIndex: 284807 entries, 0 to 284806\n",
            "Data columns (total 31 columns):\n",
            " #   Column  Non-Null Count   Dtype  \n",
            "---  ------  --------------   -----  \n",
            " 0   Time    284807 non-null  float64\n",
            " 1   V1      284807 non-null  float64\n",
            " 2   V2      284807 non-null  float64\n",
            " 3   V3      284807 non-null  float64\n",
            " 4   V4      284807 non-null  float64\n",
            " 5   V5      284807 non-null  float64\n",
            " 6   V6      284807 non-null  float64\n",
            " 7   V7      284807 non-null  float64\n",
            " 8   V8      284807 non-null  float64\n",
            " 9   V9      284807 non-null  float64\n",
            " 10  V10     284807 non-null  float64\n",
            " 11  V11     284807 non-null  float64\n",
            " 12  V12     284807 non-null  float64\n",
            " 13  V13     284807 non-null  float64\n",
            " 14  V14     284807 non-null  float64\n",
            " 15  V15     284807 non-null  float64\n",
            " 16  V16     284807 non-null  float64\n",
            " 17  V17     284807 non-null  float64\n",
            " 18  V18     284807 non-null  float64\n",
            " 19  V19     284807 non-null  float64\n",
            " 20  V20     284807 non-null  float64\n",
            " 21  V21     284807 non-null  float64\n",
            " 22  V22     284807 non-null  float64\n",
            " 23  V23     284807 non-null  float64\n",
            " 24  V24     284807 non-null  float64\n",
            " 25  V25     284807 non-null  float64\n",
            " 26  V26     284807 non-null  float64\n",
            " 27  V27     284807 non-null  float64\n",
            " 28  V28     284807 non-null  float64\n",
            " 29  Amount  284807 non-null  float64\n",
            " 30  Class   284807 non-null  int64  \n",
            "dtypes: float64(30), int64(1)\n",
            "memory usage: 67.4 MB\n"
          ]
        }
      ]
    },
    {
      "cell_type": "code",
      "metadata": {
        "colab": {
          "base_uri": "https://localhost:8080/",
          "height": 320
        },
        "id": "0BYv_QCb5an1",
        "outputId": "102fe772-a0a9-4ca5-a67d-3230c6b884fb"
      },
      "source": [
        "data.describe()"
      ],
      "execution_count": null,
      "outputs": [
        {
          "output_type": "execute_result",
          "data": {
            "text/html": [
              "<div>\n",
              "<style scoped>\n",
              "    .dataframe tbody tr th:only-of-type {\n",
              "        vertical-align: middle;\n",
              "    }\n",
              "\n",
              "    .dataframe tbody tr th {\n",
              "        vertical-align: top;\n",
              "    }\n",
              "\n",
              "    .dataframe thead th {\n",
              "        text-align: right;\n",
              "    }\n",
              "</style>\n",
              "<table border=\"1\" class=\"dataframe\">\n",
              "  <thead>\n",
              "    <tr style=\"text-align: right;\">\n",
              "      <th></th>\n",
              "      <th>Time</th>\n",
              "      <th>V1</th>\n",
              "      <th>V2</th>\n",
              "      <th>V3</th>\n",
              "      <th>V4</th>\n",
              "      <th>V5</th>\n",
              "      <th>V6</th>\n",
              "      <th>V7</th>\n",
              "      <th>V8</th>\n",
              "      <th>V9</th>\n",
              "      <th>V10</th>\n",
              "      <th>V11</th>\n",
              "      <th>V12</th>\n",
              "      <th>V13</th>\n",
              "      <th>V14</th>\n",
              "      <th>V15</th>\n",
              "      <th>V16</th>\n",
              "      <th>V17</th>\n",
              "      <th>V18</th>\n",
              "      <th>V19</th>\n",
              "      <th>V20</th>\n",
              "      <th>V21</th>\n",
              "      <th>V22</th>\n",
              "      <th>V23</th>\n",
              "      <th>V24</th>\n",
              "      <th>V25</th>\n",
              "      <th>V26</th>\n",
              "      <th>V27</th>\n",
              "      <th>V28</th>\n",
              "      <th>Amount</th>\n",
              "      <th>Class</th>\n",
              "    </tr>\n",
              "  </thead>\n",
              "  <tbody>\n",
              "    <tr>\n",
              "      <th>count</th>\n",
              "      <td>284807.000000</td>\n",
              "      <td>2.848070e+05</td>\n",
              "      <td>2.848070e+05</td>\n",
              "      <td>2.848070e+05</td>\n",
              "      <td>2.848070e+05</td>\n",
              "      <td>2.848070e+05</td>\n",
              "      <td>2.848070e+05</td>\n",
              "      <td>2.848070e+05</td>\n",
              "      <td>2.848070e+05</td>\n",
              "      <td>2.848070e+05</td>\n",
              "      <td>2.848070e+05</td>\n",
              "      <td>2.848070e+05</td>\n",
              "      <td>2.848070e+05</td>\n",
              "      <td>2.848070e+05</td>\n",
              "      <td>2.848070e+05</td>\n",
              "      <td>2.848070e+05</td>\n",
              "      <td>2.848070e+05</td>\n",
              "      <td>2.848070e+05</td>\n",
              "      <td>2.848070e+05</td>\n",
              "      <td>2.848070e+05</td>\n",
              "      <td>2.848070e+05</td>\n",
              "      <td>2.848070e+05</td>\n",
              "      <td>2.848070e+05</td>\n",
              "      <td>2.848070e+05</td>\n",
              "      <td>2.848070e+05</td>\n",
              "      <td>2.848070e+05</td>\n",
              "      <td>2.848070e+05</td>\n",
              "      <td>2.848070e+05</td>\n",
              "      <td>2.848070e+05</td>\n",
              "      <td>284807.000000</td>\n",
              "      <td>284807.000000</td>\n",
              "    </tr>\n",
              "    <tr>\n",
              "      <th>mean</th>\n",
              "      <td>94813.859575</td>\n",
              "      <td>1.758743e-12</td>\n",
              "      <td>-8.252298e-13</td>\n",
              "      <td>-9.636929e-13</td>\n",
              "      <td>8.316157e-13</td>\n",
              "      <td>1.591952e-13</td>\n",
              "      <td>4.247354e-13</td>\n",
              "      <td>-3.050180e-13</td>\n",
              "      <td>8.693344e-14</td>\n",
              "      <td>-1.179712e-12</td>\n",
              "      <td>7.094854e-13</td>\n",
              "      <td>1.875015e-12</td>\n",
              "      <td>1.053488e-12</td>\n",
              "      <td>7.137527e-13</td>\n",
              "      <td>-1.491363e-13</td>\n",
              "      <td>-5.225914e-13</td>\n",
              "      <td>-2.280712e-13</td>\n",
              "      <td>-6.428517e-13</td>\n",
              "      <td>4.958987e-13</td>\n",
              "      <td>7.060712e-13</td>\n",
              "      <td>1.766038e-12</td>\n",
              "      <td>-3.406543e-13</td>\n",
              "      <td>-5.713163e-13</td>\n",
              "      <td>-9.725303e-13</td>\n",
              "      <td>1.464139e-12</td>\n",
              "      <td>-6.989087e-13</td>\n",
              "      <td>-5.615260e-13</td>\n",
              "      <td>3.332112e-12</td>\n",
              "      <td>-3.518886e-12</td>\n",
              "      <td>88.349619</td>\n",
              "      <td>0.001727</td>\n",
              "    </tr>\n",
              "    <tr>\n",
              "      <th>std</th>\n",
              "      <td>47488.145955</td>\n",
              "      <td>1.958696e+00</td>\n",
              "      <td>1.651309e+00</td>\n",
              "      <td>1.516255e+00</td>\n",
              "      <td>1.415869e+00</td>\n",
              "      <td>1.380247e+00</td>\n",
              "      <td>1.332271e+00</td>\n",
              "      <td>1.237094e+00</td>\n",
              "      <td>1.194353e+00</td>\n",
              "      <td>1.098632e+00</td>\n",
              "      <td>1.088850e+00</td>\n",
              "      <td>1.020713e+00</td>\n",
              "      <td>9.992014e-01</td>\n",
              "      <td>9.952742e-01</td>\n",
              "      <td>9.585956e-01</td>\n",
              "      <td>9.153160e-01</td>\n",
              "      <td>8.762529e-01</td>\n",
              "      <td>8.493371e-01</td>\n",
              "      <td>8.381762e-01</td>\n",
              "      <td>8.140405e-01</td>\n",
              "      <td>7.709250e-01</td>\n",
              "      <td>7.345240e-01</td>\n",
              "      <td>7.257016e-01</td>\n",
              "      <td>6.244603e-01</td>\n",
              "      <td>6.056471e-01</td>\n",
              "      <td>5.212781e-01</td>\n",
              "      <td>4.822270e-01</td>\n",
              "      <td>4.036325e-01</td>\n",
              "      <td>3.300833e-01</td>\n",
              "      <td>250.120109</td>\n",
              "      <td>0.041527</td>\n",
              "    </tr>\n",
              "    <tr>\n",
              "      <th>min</th>\n",
              "      <td>0.000000</td>\n",
              "      <td>-5.640751e+01</td>\n",
              "      <td>-7.271573e+01</td>\n",
              "      <td>-4.832559e+01</td>\n",
              "      <td>-5.683171e+00</td>\n",
              "      <td>-1.137433e+02</td>\n",
              "      <td>-2.616051e+01</td>\n",
              "      <td>-4.355724e+01</td>\n",
              "      <td>-7.321672e+01</td>\n",
              "      <td>-1.343407e+01</td>\n",
              "      <td>-2.458826e+01</td>\n",
              "      <td>-4.797473e+00</td>\n",
              "      <td>-1.868371e+01</td>\n",
              "      <td>-5.791881e+00</td>\n",
              "      <td>-1.921433e+01</td>\n",
              "      <td>-4.498945e+00</td>\n",
              "      <td>-1.412985e+01</td>\n",
              "      <td>-2.516280e+01</td>\n",
              "      <td>-9.498746e+00</td>\n",
              "      <td>-7.213527e+00</td>\n",
              "      <td>-5.449772e+01</td>\n",
              "      <td>-3.483038e+01</td>\n",
              "      <td>-1.093314e+01</td>\n",
              "      <td>-4.480774e+01</td>\n",
              "      <td>-2.836627e+00</td>\n",
              "      <td>-1.029540e+01</td>\n",
              "      <td>-2.604551e+00</td>\n",
              "      <td>-2.256568e+01</td>\n",
              "      <td>-1.543008e+01</td>\n",
              "      <td>0.000000</td>\n",
              "      <td>0.000000</td>\n",
              "    </tr>\n",
              "    <tr>\n",
              "      <th>25%</th>\n",
              "      <td>54201.500000</td>\n",
              "      <td>-9.203734e-01</td>\n",
              "      <td>-5.985499e-01</td>\n",
              "      <td>-8.903648e-01</td>\n",
              "      <td>-8.486401e-01</td>\n",
              "      <td>-6.915971e-01</td>\n",
              "      <td>-7.682956e-01</td>\n",
              "      <td>-5.540759e-01</td>\n",
              "      <td>-2.086297e-01</td>\n",
              "      <td>-6.430976e-01</td>\n",
              "      <td>-5.354257e-01</td>\n",
              "      <td>-7.624942e-01</td>\n",
              "      <td>-4.055715e-01</td>\n",
              "      <td>-6.485393e-01</td>\n",
              "      <td>-4.255740e-01</td>\n",
              "      <td>-5.828843e-01</td>\n",
              "      <td>-4.680368e-01</td>\n",
              "      <td>-4.837483e-01</td>\n",
              "      <td>-4.988498e-01</td>\n",
              "      <td>-4.562989e-01</td>\n",
              "      <td>-2.117214e-01</td>\n",
              "      <td>-2.283949e-01</td>\n",
              "      <td>-5.423504e-01</td>\n",
              "      <td>-1.618463e-01</td>\n",
              "      <td>-3.545861e-01</td>\n",
              "      <td>-3.171451e-01</td>\n",
              "      <td>-3.269839e-01</td>\n",
              "      <td>-7.083953e-02</td>\n",
              "      <td>-5.295979e-02</td>\n",
              "      <td>5.600000</td>\n",
              "      <td>0.000000</td>\n",
              "    </tr>\n",
              "    <tr>\n",
              "      <th>50%</th>\n",
              "      <td>84692.000000</td>\n",
              "      <td>1.810880e-02</td>\n",
              "      <td>6.548556e-02</td>\n",
              "      <td>1.798463e-01</td>\n",
              "      <td>-1.984653e-02</td>\n",
              "      <td>-5.433583e-02</td>\n",
              "      <td>-2.741871e-01</td>\n",
              "      <td>4.010308e-02</td>\n",
              "      <td>2.235804e-02</td>\n",
              "      <td>-5.142873e-02</td>\n",
              "      <td>-9.291738e-02</td>\n",
              "      <td>-3.275735e-02</td>\n",
              "      <td>1.400326e-01</td>\n",
              "      <td>-1.356806e-02</td>\n",
              "      <td>5.060132e-02</td>\n",
              "      <td>4.807155e-02</td>\n",
              "      <td>6.641332e-02</td>\n",
              "      <td>-6.567575e-02</td>\n",
              "      <td>-3.636312e-03</td>\n",
              "      <td>3.734823e-03</td>\n",
              "      <td>-6.248109e-02</td>\n",
              "      <td>-2.945017e-02</td>\n",
              "      <td>6.781943e-03</td>\n",
              "      <td>-1.119293e-02</td>\n",
              "      <td>4.097606e-02</td>\n",
              "      <td>1.659350e-02</td>\n",
              "      <td>-5.213911e-02</td>\n",
              "      <td>1.342146e-03</td>\n",
              "      <td>1.124383e-02</td>\n",
              "      <td>22.000000</td>\n",
              "      <td>0.000000</td>\n",
              "    </tr>\n",
              "    <tr>\n",
              "      <th>75%</th>\n",
              "      <td>139320.500000</td>\n",
              "      <td>1.315642e+00</td>\n",
              "      <td>8.037239e-01</td>\n",
              "      <td>1.027196e+00</td>\n",
              "      <td>7.433413e-01</td>\n",
              "      <td>6.119264e-01</td>\n",
              "      <td>3.985649e-01</td>\n",
              "      <td>5.704361e-01</td>\n",
              "      <td>3.273459e-01</td>\n",
              "      <td>5.971390e-01</td>\n",
              "      <td>4.539234e-01</td>\n",
              "      <td>7.395934e-01</td>\n",
              "      <td>6.182380e-01</td>\n",
              "      <td>6.625050e-01</td>\n",
              "      <td>4.931498e-01</td>\n",
              "      <td>6.488208e-01</td>\n",
              "      <td>5.232963e-01</td>\n",
              "      <td>3.996750e-01</td>\n",
              "      <td>5.008067e-01</td>\n",
              "      <td>4.589494e-01</td>\n",
              "      <td>1.330408e-01</td>\n",
              "      <td>1.863772e-01</td>\n",
              "      <td>5.285536e-01</td>\n",
              "      <td>1.476421e-01</td>\n",
              "      <td>4.395266e-01</td>\n",
              "      <td>3.507156e-01</td>\n",
              "      <td>2.409522e-01</td>\n",
              "      <td>9.104512e-02</td>\n",
              "      <td>7.827995e-02</td>\n",
              "      <td>77.165000</td>\n",
              "      <td>0.000000</td>\n",
              "    </tr>\n",
              "    <tr>\n",
              "      <th>max</th>\n",
              "      <td>172792.000000</td>\n",
              "      <td>2.454930e+00</td>\n",
              "      <td>2.205773e+01</td>\n",
              "      <td>9.382558e+00</td>\n",
              "      <td>1.687534e+01</td>\n",
              "      <td>3.480167e+01</td>\n",
              "      <td>7.330163e+01</td>\n",
              "      <td>1.205895e+02</td>\n",
              "      <td>2.000721e+01</td>\n",
              "      <td>1.559499e+01</td>\n",
              "      <td>2.374514e+01</td>\n",
              "      <td>1.201891e+01</td>\n",
              "      <td>7.848392e+00</td>\n",
              "      <td>7.126883e+00</td>\n",
              "      <td>1.052677e+01</td>\n",
              "      <td>8.877742e+00</td>\n",
              "      <td>1.731511e+01</td>\n",
              "      <td>9.253526e+00</td>\n",
              "      <td>5.041069e+00</td>\n",
              "      <td>5.591971e+00</td>\n",
              "      <td>3.942090e+01</td>\n",
              "      <td>2.720284e+01</td>\n",
              "      <td>1.050309e+01</td>\n",
              "      <td>2.252841e+01</td>\n",
              "      <td>4.584549e+00</td>\n",
              "      <td>7.519589e+00</td>\n",
              "      <td>3.517346e+00</td>\n",
              "      <td>3.161220e+01</td>\n",
              "      <td>3.384781e+01</td>\n",
              "      <td>25691.160000</td>\n",
              "      <td>1.000000</td>\n",
              "    </tr>\n",
              "  </tbody>\n",
              "</table>\n",
              "</div>"
            ],
            "text/plain": [
              "                Time            V1  ...         Amount          Class\n",
              "count  284807.000000  2.848070e+05  ...  284807.000000  284807.000000\n",
              "mean    94813.859575  1.758743e-12  ...      88.349619       0.001727\n",
              "std     47488.145955  1.958696e+00  ...     250.120109       0.041527\n",
              "min         0.000000 -5.640751e+01  ...       0.000000       0.000000\n",
              "25%     54201.500000 -9.203734e-01  ...       5.600000       0.000000\n",
              "50%     84692.000000  1.810880e-02  ...      22.000000       0.000000\n",
              "75%    139320.500000  1.315642e+00  ...      77.165000       0.000000\n",
              "max    172792.000000  2.454930e+00  ...   25691.160000       1.000000\n",
              "\n",
              "[8 rows x 31 columns]"
            ]
          },
          "metadata": {},
          "execution_count": 7
        }
      ]
    },
    {
      "cell_type": "code",
      "metadata": {
        "colab": {
          "base_uri": "https://localhost:8080/",
          "height": 592
        },
        "id": "87nUfENX5ce1",
        "outputId": "37bffe52-d9b6-4474-9f7e-f2345fa0756a"
      },
      "source": [
        "plt.figure(figsize=(12,8))\n",
        "plt.title('DISTRIBUTION OF AMOUNT FEATURE')\n",
        "plt.xlabel(\"AMOUNT\")\n",
        "plt.ylabel(\"DENSITY\")\n",
        "sns.distplot(data.Amount)"
      ],
      "execution_count": null,
      "outputs": [
        {
          "output_type": "stream",
          "name": "stderr",
          "text": [
            "/usr/local/lib/python3.7/dist-packages/seaborn/distributions.py:2619: FutureWarning: `distplot` is a deprecated function and will be removed in a future version. Please adapt your code to use either `displot` (a figure-level function with similar flexibility) or `histplot` (an axes-level function for histograms).\n",
            "  warnings.warn(msg, FutureWarning)\n"
          ]
        },
        {
          "output_type": "execute_result",
          "data": {
            "text/plain": [
              "<matplotlib.axes._subplots.AxesSubplot at 0x7fe1b696ae50>"
            ]
          },
          "metadata": {},
          "execution_count": 8
        },
        {
          "output_type": "display_data",
          "data": {
            "image/png": "[encoded data removed]",
            "text/plain": [
              "<Figure size 864x576 with 1 Axes>"
            ]
          },
          "metadata": {}
        }
      ]
    },
    {
      "cell_type": "code",
      "metadata": {
        "colab": {
          "base_uri": "https://localhost:8080/",
          "height": 592
        },
        "id": "Y1xEQYnz7NBo",
        "outputId": "57edc2f9-122d-4a9f-8483-130542453079"
      },
      "source": [
        "plt.figure(figsize=(12,8))\n",
        "plt.title('Distribution of Time Feature')\n",
        "plt.xlabel(\"TIME\")\n",
        "plt.ylabel(\"DENSITY\")\n",
        "sns.distplot(data.Time)"
      ],
      "execution_count": null,
      "outputs": [
        {
          "output_type": "stream",
          "name": "stderr",
          "text": [
            "/usr/local/lib/python3.7/dist-packages/seaborn/distributions.py:2619: FutureWarning: `distplot` is a deprecated function and will be removed in a future version. Please adapt your code to use either `displot` (a figure-level function with similar flexibility) or `histplot` (an axes-level function for histograms).\n",
            "  warnings.warn(msg, FutureWarning)\n"
          ]
        },
        {
          "output_type": "execute_result",
          "data": {
            "text/plain": [
              "<matplotlib.axes._subplots.AxesSubplot at 0x7fe1aad1ae90>"
            ]
          },
          "metadata": {},
          "execution_count": 9
        },
        {
          "output_type": "display_data",
          "data": {
            "image/png": "[encoded data removed]",
            "text/plain": [
              "<Figure size 864x576 with 1 Axes>"
            ]
          },
          "metadata": {}
        }
      ]
    },
    {
      "cell_type": "code",
      "metadata": {
        "id": "5QJI_OpO7t50"
      },
      "source": [
        "COUNTS = data.Class.value_counts()\n",
        "COUNTS\n",
        "Non_Fradulent = COUNTS[0]\n",
        "Fradulent = COUNTS[1]"
      ],
      "execution_count": null,
      "outputs": []
    },
    {
      "cell_type": "code",
      "source": [
        "percent_non_fraud = (Non_Fradulent/(Non_Fradulent+Fradulent))*100\n",
        "print('The percentage of Non Fradualent cases in the dataset are ({:.3f}%\").'.format(percent_non_fraud))\n",
        "percent_fraud = (Fradulent/(Non_Fradulent+Fradulent))*100\n",
        "print('The percentage of Fradualent cases in the dataset are ({:.3f}%\").'.format(percent_fraud))"
      ],
      "metadata": {
        "colab": {
          "base_uri": "https://localhost:8080/"
        },
        "id": "Xg9jWFggTKLm",
        "outputId": "792f6ff5-6d03-4207-e3e0-2a43c6b5e9b0"
      },
      "execution_count": null,
      "outputs": [
        {
          "output_type": "stream",
          "name": "stdout",
          "text": [
            "The percentage of Non Fradualent cases in the dataset are (99.827%\").\n",
            "The percentage of Fradualent cases in the dataset are (0.173%\").\n"
          ]
        }
      ]
    },
    {
      "cell_type": "code",
      "metadata": {
        "colab": {
          "base_uri": "https://localhost:8080/",
          "height": 535
        },
        "id": "OVna6SgF8-cG",
        "outputId": "769f01d6-eb97-4dce-be87-2784abe0dddc"
      },
      "source": [
        "plt.figure(figsize=(10,8))\n",
        "sns.barplot(x=COUNTS.index, y=COUNTS)\n",
        "plt.title('Non - Fraudulent vs. Fraudulent Transactions')\n",
        "plt.xlabel('Class')\n",
        "plt.ylabel('Count of Transactions')"
      ],
      "execution_count": null,
      "outputs": [
        {
          "output_type": "execute_result",
          "data": {
            "text/plain": [
              "Text(0, 0.5, 'Count of Transactions')"
            ]
          },
          "metadata": {},
          "execution_count": 12
        },
        {
          "output_type": "display_data",
          "data": {
            "image/png": "[encoded data removed]",
            "text/plain": [
              "<Figure size 720x576 with 1 Axes>"
            ]
          },
          "metadata": {}
        }
      ]
    },
    {
      "cell_type": "code",
      "metadata": {
        "colab": {
          "base_uri": "https://localhost:8080/"
        },
        "id": "LDtprBhniJXF",
        "outputId": "416beb60-980a-4363-d5a5-a4811b9f33db"
      },
      "source": [
        "skew_ = data.skew()\n",
        "skew_"
      ],
      "execution_count": null,
      "outputs": [
        {
          "output_type": "execute_result",
          "data": {
            "text/plain": [
              "Time      -0.035568\n",
              "V1        -3.280667\n",
              "V2        -4.624866\n",
              "V3        -2.240155\n",
              "V4         0.676292\n",
              "V5        -2.425901\n",
              "V6         1.826581\n",
              "V7         2.553907\n",
              "V8        -8.521944\n",
              "V9         0.554680\n",
              "V10        1.187141\n",
              "V11        0.356506\n",
              "V12       -2.278401\n",
              "V13        0.065233\n",
              "V14       -1.995176\n",
              "V15       -0.308423\n",
              "V16       -1.100966\n",
              "V17       -3.844914\n",
              "V18       -0.259880\n",
              "V19        0.109192\n",
              "V20       -2.037155\n",
              "V21        3.592991\n",
              "V22       -0.213258\n",
              "V23       -5.875140\n",
              "V24       -0.552499\n",
              "V25       -0.415793\n",
              "V26        0.576693\n",
              "V27       -1.170209\n",
              "V28       11.192091\n",
              "Amount    16.977724\n",
              "Class     23.997579\n",
              "dtype: float64"
            ]
          },
          "metadata": {},
          "execution_count": 13
        }
      ]
    },
    {
      "cell_type": "code",
      "metadata": {
        "id": "SoGBVUjviyP_"
      },
      "source": [
        "from sklearn.preprocessing import StandardScaler\n",
        "scaler_time = StandardScaler()\n",
        "scaler_amount = StandardScaler()"
      ],
      "execution_count": null,
      "outputs": []
    },
    {
      "cell_type": "code",
      "metadata": {
        "id": "yca_CaaAmG0W"
      },
      "source": [
        "SCALED_TIME = scaler_time.fit_transform(data[['Time']])\n",
        "LIST1 = [item for sublist in SCALED_TIME.tolist() for item in sublist]\n",
        "SCALED_TIME = pd.Series(LIST1)"
      ],
      "execution_count": null,
      "outputs": []
    },
    {
      "cell_type": "code",
      "metadata": {
        "id": "d-1iWj1JmROe"
      },
      "source": [
        "SCALED_AMOUNT = scaler_amount.fit_transform(data[['Amount']])\n",
        "LIST2 = [item for sublist in SCALED_AMOUNT.tolist() for item in sublist]\n",
        "SCALED_AMOUNT = pd.Series(LIST2)"
      ],
      "execution_count": null,
      "outputs": []
    },
    {
      "cell_type": "code",
      "metadata": {
        "colab": {
          "base_uri": "https://localhost:8080/",
          "height": 443
        },
        "id": "uexqTDkkmayz",
        "outputId": "9d85f268-171b-49ac-85eb-ffb1fbedb4eb"
      },
      "source": [
        "data = pd.concat([data, SCALED_AMOUNT.rename('SCALED_AMOUNT'), SCALED_TIME.rename('SCALED_TIME')], axis=1)\n",
        "data"
      ],
      "execution_count": null,
      "outputs": [
        {
          "output_type": "execute_result",
          "data": {
            "text/html": [
              "<div>\n",
              "<style scoped>\n",
              "    .dataframe tbody tr th:only-of-type {\n",
              "        vertical-align: middle;\n",
              "    }\n",
              "\n",
              "    .dataframe tbody tr th {\n",
              "        vertical-align: top;\n",
              "    }\n",
              "\n",
              "    .dataframe thead th {\n",
              "        text-align: right;\n",
              "    }\n",
              "</style>\n",
              "<table border=\"1\" class=\"dataframe\">\n",
              "  <thead>\n",
              "    <tr style=\"text-align: right;\">\n",
              "      <th></th>\n",
              "      <th>Time</th>\n",
              "      <th>V1</th>\n",
              "      <th>V2</th>\n",
              "      <th>V3</th>\n",
              "      <th>V4</th>\n",
              "      <th>V5</th>\n",
              "      <th>V6</th>\n",
              "      <th>V7</th>\n",
              "      <th>V8</th>\n",
              "      <th>V9</th>\n",
              "      <th>V10</th>\n",
              "      <th>V11</th>\n",
              "      <th>V12</th>\n",
              "      <th>V13</th>\n",
              "      <th>V14</th>\n",
              "      <th>V15</th>\n",
              "      <th>V16</th>\n",
              "      <th>V17</th>\n",
              "      <th>V18</th>\n",
              "      <th>V19</th>\n",
              "      <th>V20</th>\n",
              "      <th>V21</th>\n",
              "      <th>V22</th>\n",
              "      <th>V23</th>\n",
              "      <th>V24</th>\n",
              "      <th>V25</th>\n",
              "      <th>V26</th>\n",
              "      <th>V27</th>\n",
              "      <th>V28</th>\n",
              "      <th>Amount</th>\n",
              "      <th>Class</th>\n",
              "      <th>SCALED_AMOUNT</th>\n",
              "      <th>SCALED_TIME</th>\n",
              "    </tr>\n",
              "  </thead>\n",
              "  <tbody>\n",
              "    <tr>\n",
              "      <th>0</th>\n",
              "      <td>0.0</td>\n",
              "      <td>-1.359807</td>\n",
              "      <td>-0.072781</td>\n",
              "      <td>2.536347</td>\n",
              "      <td>1.378155</td>\n",
              "      <td>-0.338321</td>\n",
              "      <td>0.462388</td>\n",
              "      <td>0.239599</td>\n",
              "      <td>0.098698</td>\n",
              "      <td>0.363787</td>\n",
              "      <td>0.090794</td>\n",
              "      <td>-0.551600</td>\n",
              "      <td>-0.617801</td>\n",
              "      <td>-0.991390</td>\n",
              "      <td>-0.311169</td>\n",
              "      <td>1.468177</td>\n",
              "      <td>-0.470401</td>\n",
              "      <td>0.207971</td>\n",
              "      <td>0.025791</td>\n",
              "      <td>0.403993</td>\n",
              "      <td>0.251412</td>\n",
              "      <td>-0.018307</td>\n",
              "      <td>0.277838</td>\n",
              "      <td>-0.110474</td>\n",
              "      <td>0.066928</td>\n",
              "      <td>0.128539</td>\n",
              "      <td>-0.189115</td>\n",
              "      <td>0.133558</td>\n",
              "      <td>-0.021053</td>\n",
              "      <td>149.62</td>\n",
              "      <td>0</td>\n",
              "      <td>0.244964</td>\n",
              "      <td>-1.996583</td>\n",
              "    </tr>\n",
              "    <tr>\n",
              "      <th>1</th>\n",
              "      <td>0.0</td>\n",
              "      <td>1.191857</td>\n",
              "      <td>0.266151</td>\n",
              "      <td>0.166480</td>\n",
              "      <td>0.448154</td>\n",
              "      <td>0.060018</td>\n",
              "      <td>-0.082361</td>\n",
              "      <td>-0.078803</td>\n",
              "      <td>0.085102</td>\n",
              "      <td>-0.255425</td>\n",
              "      <td>-0.166974</td>\n",
              "      <td>1.612727</td>\n",
              "      <td>1.065235</td>\n",
              "      <td>0.489095</td>\n",
              "      <td>-0.143772</td>\n",
              "      <td>0.635558</td>\n",
              "      <td>0.463917</td>\n",
              "      <td>-0.114805</td>\n",
              "      <td>-0.183361</td>\n",
              "      <td>-0.145783</td>\n",
              "      <td>-0.069083</td>\n",
              "      <td>-0.225775</td>\n",
              "      <td>-0.638672</td>\n",
              "      <td>0.101288</td>\n",
              "      <td>-0.339846</td>\n",
              "      <td>0.167170</td>\n",
              "      <td>0.125895</td>\n",
              "      <td>-0.008983</td>\n",
              "      <td>0.014724</td>\n",
              "      <td>2.69</td>\n",
              "      <td>0</td>\n",
              "      <td>-0.342475</td>\n",
              "      <td>-1.996583</td>\n",
              "    </tr>\n",
              "    <tr>\n",
              "      <th>2</th>\n",
              "      <td>1.0</td>\n",
              "      <td>-1.358354</td>\n",
              "      <td>-1.340163</td>\n",
              "      <td>1.773209</td>\n",
              "      <td>0.379780</td>\n",
              "      <td>-0.503198</td>\n",
              "      <td>1.800499</td>\n",
              "      <td>0.791461</td>\n",
              "      <td>0.247676</td>\n",
              "      <td>-1.514654</td>\n",
              "      <td>0.207643</td>\n",
              "      <td>0.624501</td>\n",
              "      <td>0.066084</td>\n",
              "      <td>0.717293</td>\n",
              "      <td>-0.165946</td>\n",
              "      <td>2.345865</td>\n",
              "      <td>-2.890083</td>\n",
              "      <td>1.109969</td>\n",
              "      <td>-0.121359</td>\n",
              "      <td>-2.261857</td>\n",
              "      <td>0.524980</td>\n",
              "      <td>0.247998</td>\n",
              "      <td>0.771679</td>\n",
              "      <td>0.909412</td>\n",
              "      <td>-0.689281</td>\n",
              "      <td>-0.327642</td>\n",
              "      <td>-0.139097</td>\n",
              "      <td>-0.055353</td>\n",
              "      <td>-0.059752</td>\n",
              "      <td>378.66</td>\n",
              "      <td>0</td>\n",
              "      <td>1.160686</td>\n",
              "      <td>-1.996562</td>\n",
              "    </tr>\n",
              "    <tr>\n",
              "      <th>3</th>\n",
              "      <td>1.0</td>\n",
              "      <td>-0.966272</td>\n",
              "      <td>-0.185226</td>\n",
              "      <td>1.792993</td>\n",
              "      <td>-0.863291</td>\n",
              "      <td>-0.010309</td>\n",
              "      <td>1.247203</td>\n",
              "      <td>0.237609</td>\n",
              "      <td>0.377436</td>\n",
              "      <td>-1.387024</td>\n",
              "      <td>-0.054952</td>\n",
              "      <td>-0.226487</td>\n",
              "      <td>0.178228</td>\n",
              "      <td>0.507757</td>\n",
              "      <td>-0.287924</td>\n",
              "      <td>-0.631418</td>\n",
              "      <td>-1.059647</td>\n",
              "      <td>-0.684093</td>\n",
              "      <td>1.965775</td>\n",
              "      <td>-1.232622</td>\n",
              "      <td>-0.208038</td>\n",
              "      <td>-0.108300</td>\n",
              "      <td>0.005274</td>\n",
              "      <td>-0.190321</td>\n",
              "      <td>-1.175575</td>\n",
              "      <td>0.647376</td>\n",
              "      <td>-0.221929</td>\n",
              "      <td>0.062723</td>\n",
              "      <td>0.061458</td>\n",
              "      <td>123.50</td>\n",
              "      <td>0</td>\n",
              "      <td>0.140534</td>\n",
              "      <td>-1.996562</td>\n",
              "    </tr>\n",
              "    <tr>\n",
              "      <th>4</th>\n",
              "      <td>2.0</td>\n",
              "      <td>-1.158233</td>\n",
              "      <td>0.877737</td>\n",
              "      <td>1.548718</td>\n",
              "      <td>0.403034</td>\n",
              "      <td>-0.407193</td>\n",
              "      <td>0.095921</td>\n",
              "      <td>0.592941</td>\n",
              "      <td>-0.270533</td>\n",
              "      <td>0.817739</td>\n",
              "      <td>0.753074</td>\n",
              "      <td>-0.822843</td>\n",
              "      <td>0.538196</td>\n",
              "      <td>1.345852</td>\n",
              "      <td>-1.119670</td>\n",
              "      <td>0.175121</td>\n",
              "      <td>-0.451449</td>\n",
              "      <td>-0.237033</td>\n",
              "      <td>-0.038195</td>\n",
              "      <td>0.803487</td>\n",
              "      <td>0.408542</td>\n",
              "      <td>-0.009431</td>\n",
              "      <td>0.798278</td>\n",
              "      <td>-0.137458</td>\n",
              "      <td>0.141267</td>\n",
              "      <td>-0.206010</td>\n",
              "      <td>0.502292</td>\n",
              "      <td>0.219422</td>\n",
              "      <td>0.215153</td>\n",
              "      <td>69.99</td>\n",
              "      <td>0</td>\n",
              "      <td>-0.073403</td>\n",
              "      <td>-1.996541</td>\n",
              "    </tr>\n",
              "    <tr>\n",
              "      <th>...</th>\n",
              "      <td>...</td>\n",
              "      <td>...</td>\n",
              "      <td>...</td>\n",
              "      <td>...</td>\n",
              "      <td>...</td>\n",
              "      <td>...</td>\n",
              "      <td>...</td>\n",
              "      <td>...</td>\n",
              "      <td>...</td>\n",
              "      <td>...</td>\n",
              "      <td>...</td>\n",
              "      <td>...</td>\n",
              "      <td>...</td>\n",
              "      <td>...</td>\n",
              "      <td>...</td>\n",
              "      <td>...</td>\n",
              "      <td>...</td>\n",
              "      <td>...</td>\n",
              "      <td>...</td>\n",
              "      <td>...</td>\n",
              "      <td>...</td>\n",
              "      <td>...</td>\n",
              "      <td>...</td>\n",
              "      <td>...</td>\n",
              "      <td>...</td>\n",
              "      <td>...</td>\n",
              "      <td>...</td>\n",
              "      <td>...</td>\n",
              "      <td>...</td>\n",
              "      <td>...</td>\n",
              "      <td>...</td>\n",
              "      <td>...</td>\n",
              "      <td>...</td>\n",
              "    </tr>\n",
              "    <tr>\n",
              "      <th>284802</th>\n",
              "      <td>172786.0</td>\n",
              "      <td>-11.881118</td>\n",
              "      <td>10.071785</td>\n",
              "      <td>-9.834783</td>\n",
              "      <td>-2.066656</td>\n",
              "      <td>-5.364473</td>\n",
              "      <td>-2.606837</td>\n",
              "      <td>-4.918215</td>\n",
              "      <td>7.305334</td>\n",
              "      <td>1.914428</td>\n",
              "      <td>4.356170</td>\n",
              "      <td>-1.593105</td>\n",
              "      <td>2.711941</td>\n",
              "      <td>-0.689256</td>\n",
              "      <td>4.626942</td>\n",
              "      <td>-0.924459</td>\n",
              "      <td>1.107641</td>\n",
              "      <td>1.991691</td>\n",
              "      <td>0.510632</td>\n",
              "      <td>-0.682920</td>\n",
              "      <td>1.475829</td>\n",
              "      <td>0.213454</td>\n",
              "      <td>0.111864</td>\n",
              "      <td>1.014480</td>\n",
              "      <td>-0.509348</td>\n",
              "      <td>1.436807</td>\n",
              "      <td>0.250034</td>\n",
              "      <td>0.943651</td>\n",
              "      <td>0.823731</td>\n",
              "      <td>0.77</td>\n",
              "      <td>0</td>\n",
              "      <td>-0.350151</td>\n",
              "      <td>1.641931</td>\n",
              "    </tr>\n",
              "    <tr>\n",
              "      <th>284803</th>\n",
              "      <td>172787.0</td>\n",
              "      <td>-0.732789</td>\n",
              "      <td>-0.055080</td>\n",
              "      <td>2.035030</td>\n",
              "      <td>-0.738589</td>\n",
              "      <td>0.868229</td>\n",
              "      <td>1.058415</td>\n",
              "      <td>0.024330</td>\n",
              "      <td>0.294869</td>\n",
              "      <td>0.584800</td>\n",
              "      <td>-0.975926</td>\n",
              "      <td>-0.150189</td>\n",
              "      <td>0.915802</td>\n",
              "      <td>1.214756</td>\n",
              "      <td>-0.675143</td>\n",
              "      <td>1.164931</td>\n",
              "      <td>-0.711757</td>\n",
              "      <td>-0.025693</td>\n",
              "      <td>-1.221179</td>\n",
              "      <td>-1.545556</td>\n",
              "      <td>0.059616</td>\n",
              "      <td>0.214205</td>\n",
              "      <td>0.924384</td>\n",
              "      <td>0.012463</td>\n",
              "      <td>-1.016226</td>\n",
              "      <td>-0.606624</td>\n",
              "      <td>-0.395255</td>\n",
              "      <td>0.068472</td>\n",
              "      <td>-0.053527</td>\n",
              "      <td>24.79</td>\n",
              "      <td>0</td>\n",
              "      <td>-0.254117</td>\n",
              "      <td>1.641952</td>\n",
              "    </tr>\n",
              "    <tr>\n",
              "      <th>284804</th>\n",
              "      <td>172788.0</td>\n",
              "      <td>1.919565</td>\n",
              "      <td>-0.301254</td>\n",
              "      <td>-3.249640</td>\n",
              "      <td>-0.557828</td>\n",
              "      <td>2.630515</td>\n",
              "      <td>3.031260</td>\n",
              "      <td>-0.296827</td>\n",
              "      <td>0.708417</td>\n",
              "      <td>0.432454</td>\n",
              "      <td>-0.484782</td>\n",
              "      <td>0.411614</td>\n",
              "      <td>0.063119</td>\n",
              "      <td>-0.183699</td>\n",
              "      <td>-0.510602</td>\n",
              "      <td>1.329284</td>\n",
              "      <td>0.140716</td>\n",
              "      <td>0.313502</td>\n",
              "      <td>0.395652</td>\n",
              "      <td>-0.577252</td>\n",
              "      <td>0.001396</td>\n",
              "      <td>0.232045</td>\n",
              "      <td>0.578229</td>\n",
              "      <td>-0.037501</td>\n",
              "      <td>0.640134</td>\n",
              "      <td>0.265745</td>\n",
              "      <td>-0.087371</td>\n",
              "      <td>0.004455</td>\n",
              "      <td>-0.026561</td>\n",
              "      <td>67.88</td>\n",
              "      <td>0</td>\n",
              "      <td>-0.081839</td>\n",
              "      <td>1.641974</td>\n",
              "    </tr>\n",
              "    <tr>\n",
              "      <th>284805</th>\n",
              "      <td>172788.0</td>\n",
              "      <td>-0.240440</td>\n",
              "      <td>0.530483</td>\n",
              "      <td>0.702510</td>\n",
              "      <td>0.689799</td>\n",
              "      <td>-0.377961</td>\n",
              "      <td>0.623708</td>\n",
              "      <td>-0.686180</td>\n",
              "      <td>0.679145</td>\n",
              "      <td>0.392087</td>\n",
              "      <td>-0.399126</td>\n",
              "      <td>-1.933849</td>\n",
              "      <td>-0.962886</td>\n",
              "      <td>-1.042082</td>\n",
              "      <td>0.449624</td>\n",
              "      <td>1.962563</td>\n",
              "      <td>-0.608577</td>\n",
              "      <td>0.509928</td>\n",
              "      <td>1.113981</td>\n",
              "      <td>2.897849</td>\n",
              "      <td>0.127434</td>\n",
              "      <td>0.265245</td>\n",
              "      <td>0.800049</td>\n",
              "      <td>-0.163298</td>\n",
              "      <td>0.123205</td>\n",
              "      <td>-0.569159</td>\n",
              "      <td>0.546668</td>\n",
              "      <td>0.108821</td>\n",
              "      <td>0.104533</td>\n",
              "      <td>10.00</td>\n",
              "      <td>0</td>\n",
              "      <td>-0.313249</td>\n",
              "      <td>1.641974</td>\n",
              "    </tr>\n",
              "    <tr>\n",
              "      <th>284806</th>\n",
              "      <td>172792.0</td>\n",
              "      <td>-0.533413</td>\n",
              "      <td>-0.189733</td>\n",
              "      <td>0.703337</td>\n",
              "      <td>-0.506271</td>\n",
              "      <td>-0.012546</td>\n",
              "      <td>-0.649617</td>\n",
              "      <td>1.577006</td>\n",
              "      <td>-0.414650</td>\n",
              "      <td>0.486180</td>\n",
              "      <td>-0.915427</td>\n",
              "      <td>-1.040458</td>\n",
              "      <td>-0.031513</td>\n",
              "      <td>-0.188093</td>\n",
              "      <td>-0.084316</td>\n",
              "      <td>0.041333</td>\n",
              "      <td>-0.302620</td>\n",
              "      <td>-0.660377</td>\n",
              "      <td>0.167430</td>\n",
              "      <td>-0.256117</td>\n",
              "      <td>0.382948</td>\n",
              "      <td>0.261057</td>\n",
              "      <td>0.643078</td>\n",
              "      <td>0.376777</td>\n",
              "      <td>0.008797</td>\n",
              "      <td>-0.473649</td>\n",
              "      <td>-0.818267</td>\n",
              "      <td>-0.002415</td>\n",
              "      <td>0.013649</td>\n",
              "      <td>217.00</td>\n",
              "      <td>0</td>\n",
              "      <td>0.514355</td>\n",
              "      <td>1.642058</td>\n",
              "    </tr>\n",
              "  </tbody>\n",
              "</table>\n",
              "<p>284807 rows × 33 columns</p>\n",
              "</div>"
            ],
            "text/plain": [
              "            Time         V1         V2  ...  Class  SCALED_AMOUNT  SCALED_TIME\n",
              "0            0.0  -1.359807  -0.072781  ...      0       0.244964    -1.996583\n",
              "1            0.0   1.191857   0.266151  ...      0      -0.342475    -1.996583\n",
              "2            1.0  -1.358354  -1.340163  ...      0       1.160686    -1.996562\n",
              "3            1.0  -0.966272  -0.185226  ...      0       0.140534    -1.996562\n",
              "4            2.0  -1.158233   0.877737  ...      0      -0.073403    -1.996541\n",
              "...          ...        ...        ...  ...    ...            ...          ...\n",
              "284802  172786.0 -11.881118  10.071785  ...      0      -0.350151     1.641931\n",
              "284803  172787.0  -0.732789  -0.055080  ...      0      -0.254117     1.641952\n",
              "284804  172788.0   1.919565  -0.301254  ...      0      -0.081839     1.641974\n",
              "284805  172788.0  -0.240440   0.530483  ...      0      -0.313249     1.641974\n",
              "284806  172792.0  -0.533413  -0.189733  ...      0       0.514355     1.642058\n",
              "\n",
              "[284807 rows x 33 columns]"
            ]
          },
          "metadata": {},
          "execution_count": 17
        }
      ]
    },
    {
      "cell_type": "code",
      "metadata": {
        "id": "T5_3yZm-mhVv"
      },
      "source": [
        "data.drop(['Amount', 'Time'], axis=1, inplace=True)"
      ],
      "execution_count": null,
      "outputs": []
    },
    {
      "cell_type": "code",
      "metadata": {
        "id": "Vb2RG86cXfgG"
      },
      "source": [
        "split = np.random.rand(len(data)) < 0.95\n",
        "Train_data = data[split]\n",
        "Test_data = data[~split]"
      ],
      "execution_count": null,
      "outputs": []
    },
    {
      "cell_type": "code",
      "metadata": {
        "id": "OORLjDjPYPrI"
      },
      "source": [
        "Train_data.reset_index(drop=True, inplace=True)\n",
        "Test_data.reset_index(drop=True, inplace=True)"
      ],
      "execution_count": null,
      "outputs": []
    },
    {
      "cell_type": "code",
      "metadata": {
        "colab": {
          "base_uri": "https://localhost:8080/"
        },
        "id": "Lm_r0jVlYlt9",
        "outputId": "a4f38ece-965a-4d75-f042-3603a067c864"
      },
      "source": [
        "NumberofFrauds = Train_data.Class.value_counts()[1]\n",
        "print('The total number of fraudulent transactions in the train data are : {}'.format(NumberofFrauds))"
      ],
      "execution_count": null,
      "outputs": [
        {
          "output_type": "stream",
          "name": "stdout",
          "text": [
            "The total number of fraudulent transactions in the train data are : 466\n"
          ]
        }
      ]
    },
    {
      "cell_type": "code",
      "metadata": {
        "id": "UA55ZicCYp9A",
        "colab": {
          "base_uri": "https://localhost:8080/"
        },
        "outputId": "cac09e54-0490-4819-c30d-f6df0a1cc3a5"
      },
      "source": [
        "Non_Fraud = Train_data[Train_data['Class'] == 0]\n",
        "print(Non_Fraud)\n",
        "Fraud = Train_data[Train_data['Class'] == 1]\n",
        "print(Fraud)"
      ],
      "execution_count": null,
      "outputs": [
        {
          "output_type": "stream",
          "name": "stdout",
          "text": [
            "               V1         V2        V3  ...  Class  SCALED_AMOUNT  SCALED_TIME\n",
            "0       -1.359807  -0.072781  2.536347  ...      0       0.244964    -1.996583\n",
            "1        1.191857   0.266151  0.166480  ...      0      -0.342475    -1.996583\n",
            "2       -1.358354  -1.340163  1.773209  ...      0       1.160686    -1.996562\n",
            "3       -0.966272  -0.185226  1.792993  ...      0       0.140534    -1.996562\n",
            "4       -1.158233   0.877737  1.548718  ...      0      -0.073403    -1.996541\n",
            "...           ...        ...       ...  ...    ...            ...          ...\n",
            "270723 -11.881118  10.071785 -9.834783  ...      0      -0.350151     1.641931\n",
            "270724  -0.732789  -0.055080  2.035030  ...      0      -0.254117     1.641952\n",
            "270725   1.919565  -0.301254 -3.249640  ...      0      -0.081839     1.641974\n",
            "270726  -0.240440   0.530483  0.702510  ...      0      -0.313249     1.641974\n",
            "270727  -0.533413  -0.189733  0.703337  ...      0       0.514355     1.642058\n",
            "\n",
            "[270262 rows x 31 columns]\n",
            "              V1        V2        V3  ...  Class  SCALED_AMOUNT  SCALED_TIME\n",
            "509    -2.312227  1.951992 -1.609851  ...      1      -0.353229    -1.988034\n",
            "587    -3.043541 -3.157307  1.088463  ...      1       1.761758    -1.986644\n",
            "4668   -2.303350  1.759247 -0.359745  ...      1       0.606031    -1.902623\n",
            "5792   -4.397974  1.358367 -2.592844  ...      1      -0.117342    -1.849472\n",
            "6004    1.234235  3.019740 -4.304597  ...      1      -0.349231    -1.838248\n",
            "...          ...       ...       ...  ...    ...            ...          ...\n",
            "266008 -1.927883  1.125653 -4.518331  ...      1       1.206024     1.565196\n",
            "266275  1.378559  1.289381 -5.004247  ...      1      -0.350191     1.569513\n",
            "266280 -0.676143  1.126366 -2.213700  ...      1      -0.041818     1.569597\n",
            "267230 -3.113832  0.585864 -5.399730  ...      1       0.626302     1.582548\n",
            "267731  1.991976  0.158476 -2.583441  ...      1      -0.183191     1.590592\n",
            "\n",
            "[466 rows x 31 columns]\n"
          ]
        }
      ]
    },
    {
      "cell_type": "code",
      "metadata": {
        "colab": {
          "base_uri": "https://localhost:8080/",
          "height": 443
        },
        "id": "sEjV9ATZZllT",
        "outputId": "fc92a473-bfb2-4b50-ead7-0aa17ea3f37d"
      },
      "source": [
        "selected_cases = Non_Fraud.sample(NumberofFrauds)\n",
        "selected_cases"
      ],
      "execution_count": null,
      "outputs": [
        {
          "output_type": "execute_result",
          "data": {
            "text/html": [
              "<div>\n",
              "<style scoped>\n",
              "    .dataframe tbody tr th:only-of-type {\n",
              "        vertical-align: middle;\n",
              "    }\n",
              "\n",
              "    .dataframe tbody tr th {\n",
              "        vertical-align: top;\n",
              "    }\n",
              "\n",
              "    .dataframe thead th {\n",
              "        text-align: right;\n",
              "    }\n",
              "</style>\n",
              "<table border=\"1\" class=\"dataframe\">\n",
              "  <thead>\n",
              "    <tr style=\"text-align: right;\">\n",
              "      <th></th>\n",
              "      <th>V1</th>\n",
              "      <th>V2</th>\n",
              "      <th>V3</th>\n",
              "      <th>V4</th>\n",
              "      <th>V5</th>\n",
              "      <th>V6</th>\n",
              "      <th>V7</th>\n",
              "      <th>V8</th>\n",
              "      <th>V9</th>\n",
              "      <th>V10</th>\n",
              "      <th>V11</th>\n",
              "      <th>V12</th>\n",
              "      <th>V13</th>\n",
              "      <th>V14</th>\n",
              "      <th>V15</th>\n",
              "      <th>V16</th>\n",
              "      <th>V17</th>\n",
              "      <th>V18</th>\n",
              "      <th>V19</th>\n",
              "      <th>V20</th>\n",
              "      <th>V21</th>\n",
              "      <th>V22</th>\n",
              "      <th>V23</th>\n",
              "      <th>V24</th>\n",
              "      <th>V25</th>\n",
              "      <th>V26</th>\n",
              "      <th>V27</th>\n",
              "      <th>V28</th>\n",
              "      <th>Class</th>\n",
              "      <th>SCALED_AMOUNT</th>\n",
              "      <th>SCALED_TIME</th>\n",
              "    </tr>\n",
              "  </thead>\n",
              "  <tbody>\n",
              "    <tr>\n",
              "      <th>247819</th>\n",
              "      <td>-0.315072</td>\n",
              "      <td>-0.227282</td>\n",
              "      <td>0.986778</td>\n",
              "      <td>-2.222076</td>\n",
              "      <td>-0.237656</td>\n",
              "      <td>0.276330</td>\n",
              "      <td>-0.228989</td>\n",
              "      <td>-0.051298</td>\n",
              "      <td>-2.360663</td>\n",
              "      <td>1.005975</td>\n",
              "      <td>-1.663867</td>\n",
              "      <td>-1.701076</td>\n",
              "      <td>0.261191</td>\n",
              "      <td>-0.460625</td>\n",
              "      <td>0.351239</td>\n",
              "      <td>-0.933604</td>\n",
              "      <td>0.728591</td>\n",
              "      <td>0.334775</td>\n",
              "      <td>1.226555</td>\n",
              "      <td>-0.171372</td>\n",
              "      <td>-0.205233</td>\n",
              "      <td>-0.188553</td>\n",
              "      <td>-0.431688</td>\n",
              "      <td>0.021289</td>\n",
              "      <td>0.559038</td>\n",
              "      <td>0.145655</td>\n",
              "      <td>-0.049664</td>\n",
              "      <td>0.045874</td>\n",
              "      <td>0</td>\n",
              "      <td>-0.273268</td>\n",
              "      <td>1.365967</td>\n",
              "    </tr>\n",
              "    <tr>\n",
              "      <th>134380</th>\n",
              "      <td>-3.482944</td>\n",
              "      <td>-3.384009</td>\n",
              "      <td>1.143231</td>\n",
              "      <td>1.234045</td>\n",
              "      <td>2.295830</td>\n",
              "      <td>-2.046862</td>\n",
              "      <td>-2.234728</td>\n",
              "      <td>0.906709</td>\n",
              "      <td>0.639035</td>\n",
              "      <td>-0.730831</td>\n",
              "      <td>-2.001411</td>\n",
              "      <td>-0.282057</td>\n",
              "      <td>-0.875684</td>\n",
              "      <td>0.391932</td>\n",
              "      <td>0.214519</td>\n",
              "      <td>0.806006</td>\n",
              "      <td>-0.633876</td>\n",
              "      <td>0.716013</td>\n",
              "      <td>-0.695612</td>\n",
              "      <td>0.798274</td>\n",
              "      <td>0.479558</td>\n",
              "      <td>-0.090797</td>\n",
              "      <td>-0.079484</td>\n",
              "      <td>-0.343672</td>\n",
              "      <td>-0.682225</td>\n",
              "      <td>-0.663880</td>\n",
              "      <td>0.174190</td>\n",
              "      <td>-0.488583</td>\n",
              "      <td>0</td>\n",
              "      <td>-0.349231</td>\n",
              "      <td>-0.222811</td>\n",
              "    </tr>\n",
              "    <tr>\n",
              "      <th>130009</th>\n",
              "      <td>-0.472069</td>\n",
              "      <td>-3.784867</td>\n",
              "      <td>-1.375321</td>\n",
              "      <td>-0.010271</td>\n",
              "      <td>-1.515846</td>\n",
              "      <td>0.009644</td>\n",
              "      <td>0.805451</td>\n",
              "      <td>-0.257717</td>\n",
              "      <td>-0.820420</td>\n",
              "      <td>0.341372</td>\n",
              "      <td>0.192620</td>\n",
              "      <td>-0.934521</td>\n",
              "      <td>-1.454733</td>\n",
              "      <td>0.508652</td>\n",
              "      <td>-0.562554</td>\n",
              "      <td>1.171234</td>\n",
              "      <td>0.197087</td>\n",
              "      <td>-0.488805</td>\n",
              "      <td>1.110832</td>\n",
              "      <td>1.989121</td>\n",
              "      <td>0.727761</td>\n",
              "      <td>-0.209860</td>\n",
              "      <td>-1.130925</td>\n",
              "      <td>-0.440823</td>\n",
              "      <td>0.448165</td>\n",
              "      <td>-0.130903</td>\n",
              "      <td>-0.212144</td>\n",
              "      <td>0.153917</td>\n",
              "      <td>0</td>\n",
              "      <td>3.644857</td>\n",
              "      <td>-0.273455</td>\n",
              "    </tr>\n",
              "    <tr>\n",
              "      <th>233184</th>\n",
              "      <td>2.060249</td>\n",
              "      <td>-0.331032</td>\n",
              "      <td>-3.087712</td>\n",
              "      <td>-0.671689</td>\n",
              "      <td>2.694592</td>\n",
              "      <td>3.130140</td>\n",
              "      <td>-0.137851</td>\n",
              "      <td>0.653959</td>\n",
              "      <td>0.233731</td>\n",
              "      <td>0.124271</td>\n",
              "      <td>-0.131284</td>\n",
              "      <td>0.325860</td>\n",
              "      <td>-0.349572</td>\n",
              "      <td>0.624448</td>\n",
              "      <td>-0.019191</td>\n",
              "      <td>-0.637264</td>\n",
              "      <td>-0.153434</td>\n",
              "      <td>-0.959651</td>\n",
              "      <td>0.071874</td>\n",
              "      <td>-0.148090</td>\n",
              "      <td>-0.033327</td>\n",
              "      <td>-0.020307</td>\n",
              "      <td>0.110457</td>\n",
              "      <td>0.761671</td>\n",
              "      <td>0.210772</td>\n",
              "      <td>0.580943</td>\n",
              "      <td>-0.079440</td>\n",
              "      <td>-0.082101</td>\n",
              "      <td>0</td>\n",
              "      <td>-0.301454</td>\n",
              "      <td>1.218646</td>\n",
              "    </tr>\n",
              "    <tr>\n",
              "      <th>187261</th>\n",
              "      <td>-6.382125</td>\n",
              "      <td>-5.195580</td>\n",
              "      <td>-2.620923</td>\n",
              "      <td>1.717625</td>\n",
              "      <td>5.137249</td>\n",
              "      <td>-2.957162</td>\n",
              "      <td>-1.296556</td>\n",
              "      <td>0.366940</td>\n",
              "      <td>-0.281620</td>\n",
              "      <td>-0.014689</td>\n",
              "      <td>-0.611509</td>\n",
              "      <td>0.665411</td>\n",
              "      <td>-0.279824</td>\n",
              "      <td>1.519586</td>\n",
              "      <td>0.178067</td>\n",
              "      <td>-1.088868</td>\n",
              "      <td>0.628440</td>\n",
              "      <td>-1.925078</td>\n",
              "      <td>-2.111273</td>\n",
              "      <td>-1.182136</td>\n",
              "      <td>0.264852</td>\n",
              "      <td>1.008134</td>\n",
              "      <td>-3.337265</td>\n",
              "      <td>-0.594899</td>\n",
              "      <td>-0.652782</td>\n",
              "      <td>-0.416279</td>\n",
              "      <td>1.089101</td>\n",
              "      <td>-1.951876</td>\n",
              "      <td>0</td>\n",
              "      <td>-0.349231</td>\n",
              "      <td>0.778788</td>\n",
              "    </tr>\n",
              "    <tr>\n",
              "      <th>...</th>\n",
              "      <td>...</td>\n",
              "      <td>...</td>\n",
              "      <td>...</td>\n",
              "      <td>...</td>\n",
              "      <td>...</td>\n",
              "      <td>...</td>\n",
              "      <td>...</td>\n",
              "      <td>...</td>\n",
              "      <td>...</td>\n",
              "      <td>...</td>\n",
              "      <td>...</td>\n",
              "      <td>...</td>\n",
              "      <td>...</td>\n",
              "      <td>...</td>\n",
              "      <td>...</td>\n",
              "      <td>...</td>\n",
              "      <td>...</td>\n",
              "      <td>...</td>\n",
              "      <td>...</td>\n",
              "      <td>...</td>\n",
              "      <td>...</td>\n",
              "      <td>...</td>\n",
              "      <td>...</td>\n",
              "      <td>...</td>\n",
              "      <td>...</td>\n",
              "      <td>...</td>\n",
              "      <td>...</td>\n",
              "      <td>...</td>\n",
              "      <td>...</td>\n",
              "      <td>...</td>\n",
              "      <td>...</td>\n",
              "    </tr>\n",
              "    <tr>\n",
              "      <th>97510</th>\n",
              "      <td>1.314857</td>\n",
              "      <td>0.303947</td>\n",
              "      <td>-0.050255</td>\n",
              "      <td>0.502409</td>\n",
              "      <td>-0.002753</td>\n",
              "      <td>-0.610437</td>\n",
              "      <td>0.043476</td>\n",
              "      <td>-0.129763</td>\n",
              "      <td>0.149250</td>\n",
              "      <td>-0.269850</td>\n",
              "      <td>-0.882249</td>\n",
              "      <td>-0.248394</td>\n",
              "      <td>-0.017640</td>\n",
              "      <td>-0.259909</td>\n",
              "      <td>1.197230</td>\n",
              "      <td>0.740847</td>\n",
              "      <td>-0.287355</td>\n",
              "      <td>0.021554</td>\n",
              "      <td>0.120030</td>\n",
              "      <td>-0.079135</td>\n",
              "      <td>-0.347109</td>\n",
              "      <td>-1.015222</td>\n",
              "      <td>0.029713</td>\n",
              "      <td>-0.519088</td>\n",
              "      <td>0.314452</td>\n",
              "      <td>0.148353</td>\n",
              "      <td>-0.026630</td>\n",
              "      <td>0.021352</td>\n",
              "      <td>0</td>\n",
              "      <td>-0.346073</td>\n",
              "      <td>-0.559295</td>\n",
              "    </tr>\n",
              "    <tr>\n",
              "      <th>240652</th>\n",
              "      <td>1.831051</td>\n",
              "      <td>-1.369970</td>\n",
              "      <td>-0.859944</td>\n",
              "      <td>-0.570889</td>\n",
              "      <td>-0.773071</td>\n",
              "      <td>0.209194</td>\n",
              "      <td>-0.719739</td>\n",
              "      <td>0.005814</td>\n",
              "      <td>-0.325727</td>\n",
              "      <td>0.887002</td>\n",
              "      <td>-0.105883</td>\n",
              "      <td>0.787510</td>\n",
              "      <td>1.127691</td>\n",
              "      <td>-0.155057</td>\n",
              "      <td>-0.310168</td>\n",
              "      <td>-0.608152</td>\n",
              "      <td>-0.890670</td>\n",
              "      <td>1.624294</td>\n",
              "      <td>-0.179546</td>\n",
              "      <td>-0.184614</td>\n",
              "      <td>-0.534825</td>\n",
              "      <td>-1.337689</td>\n",
              "      <td>0.235853</td>\n",
              "      <td>-1.067652</td>\n",
              "      <td>-0.691607</td>\n",
              "      <td>0.258579</td>\n",
              "      <td>-0.045271</td>\n",
              "      <td>-0.029664</td>\n",
              "      <td>0</td>\n",
              "      <td>0.330203</td>\n",
              "      <td>1.290833</td>\n",
              "    </tr>\n",
              "    <tr>\n",
              "      <th>74805</th>\n",
              "      <td>1.179752</td>\n",
              "      <td>-0.212219</td>\n",
              "      <td>0.895462</td>\n",
              "      <td>-0.774479</td>\n",
              "      <td>-1.137493</td>\n",
              "      <td>-1.194175</td>\n",
              "      <td>-0.275968</td>\n",
              "      <td>-0.231656</td>\n",
              "      <td>1.228293</td>\n",
              "      <td>-1.047698</td>\n",
              "      <td>0.397694</td>\n",
              "      <td>1.600728</td>\n",
              "      <td>1.694937</td>\n",
              "      <td>-0.192839</td>\n",
              "      <td>1.819193</td>\n",
              "      <td>-0.313289</td>\n",
              "      <td>-0.378221</td>\n",
              "      <td>0.017320</td>\n",
              "      <td>0.191104</td>\n",
              "      <td>0.055656</td>\n",
              "      <td>0.091690</td>\n",
              "      <td>0.397338</td>\n",
              "      <td>-0.023291</td>\n",
              "      <td>0.769954</td>\n",
              "      <td>0.446296</td>\n",
              "      <td>-0.751161</td>\n",
              "      <td>0.086755</td>\n",
              "      <td>0.048723</td>\n",
              "      <td>0</td>\n",
              "      <td>-0.213017</td>\n",
              "      <td>-0.782657</td>\n",
              "    </tr>\n",
              "    <tr>\n",
              "      <th>228509</th>\n",
              "      <td>1.538888</td>\n",
              "      <td>-1.043620</td>\n",
              "      <td>-1.732680</td>\n",
              "      <td>0.252799</td>\n",
              "      <td>-0.150033</td>\n",
              "      <td>-0.579059</td>\n",
              "      <td>0.325719</td>\n",
              "      <td>-0.181457</td>\n",
              "      <td>0.245239</td>\n",
              "      <td>0.238000</td>\n",
              "      <td>0.878865</td>\n",
              "      <td>0.340470</td>\n",
              "      <td>-0.863140</td>\n",
              "      <td>0.848478</td>\n",
              "      <td>0.100459</td>\n",
              "      <td>0.326386</td>\n",
              "      <td>-0.673143</td>\n",
              "      <td>0.395044</td>\n",
              "      <td>-0.020681</td>\n",
              "      <td>0.314771</td>\n",
              "      <td>0.407630</td>\n",
              "      <td>0.578788</td>\n",
              "      <td>-0.146252</td>\n",
              "      <td>0.827727</td>\n",
              "      <td>-0.086948</td>\n",
              "      <td>0.705979</td>\n",
              "      <td>-0.154599</td>\n",
              "      <td>-0.029010</td>\n",
              "      <td>0</td>\n",
              "      <td>0.722256</td>\n",
              "      <td>1.174551</td>\n",
              "    </tr>\n",
              "    <tr>\n",
              "      <th>4839</th>\n",
              "      <td>-0.442821</td>\n",
              "      <td>1.093646</td>\n",
              "      <td>1.523069</td>\n",
              "      <td>0.314115</td>\n",
              "      <td>0.086814</td>\n",
              "      <td>-0.687119</td>\n",
              "      <td>0.491791</td>\n",
              "      <td>0.006742</td>\n",
              "      <td>0.974681</td>\n",
              "      <td>-0.907010</td>\n",
              "      <td>1.124588</td>\n",
              "      <td>-2.777838</td>\n",
              "      <td>0.957086</td>\n",
              "      <td>1.200121</td>\n",
              "      <td>0.466038</td>\n",
              "      <td>0.000070</td>\n",
              "      <td>1.179417</td>\n",
              "      <td>-0.327934</td>\n",
              "      <td>-0.771749</td>\n",
              "      <td>0.005273</td>\n",
              "      <td>-0.366738</td>\n",
              "      <td>-0.763346</td>\n",
              "      <td>0.097200</td>\n",
              "      <td>0.267165</td>\n",
              "      <td>-0.320394</td>\n",
              "      <td>0.045034</td>\n",
              "      <td>0.227555</td>\n",
              "      <td>0.091458</td>\n",
              "      <td>0</td>\n",
              "      <td>-0.316647</td>\n",
              "      <td>-1.896116</td>\n",
              "    </tr>\n",
              "  </tbody>\n",
              "</table>\n",
              "<p>466 rows × 31 columns</p>\n",
              "</div>"
            ],
            "text/plain": [
              "              V1        V2        V3  ...  Class  SCALED_AMOUNT  SCALED_TIME\n",
              "247819 -0.315072 -0.227282  0.986778  ...      0      -0.273268     1.365967\n",
              "134380 -3.482944 -3.384009  1.143231  ...      0      -0.349231    -0.222811\n",
              "130009 -0.472069 -3.784867 -1.375321  ...      0       3.644857    -0.273455\n",
              "233184  2.060249 -0.331032 -3.087712  ...      0      -0.301454     1.218646\n",
              "187261 -6.382125 -5.195580 -2.620923  ...      0      -0.349231     0.778788\n",
              "...          ...       ...       ...  ...    ...            ...          ...\n",
              "97510   1.314857  0.303947 -0.050255  ...      0      -0.346073    -0.559295\n",
              "240652  1.831051 -1.369970 -0.859944  ...      0       0.330203     1.290833\n",
              "74805   1.179752 -0.212219  0.895462  ...      0      -0.213017    -0.782657\n",
              "228509  1.538888 -1.043620 -1.732680  ...      0       0.722256     1.174551\n",
              "4839   -0.442821  1.093646  1.523069  ...      0      -0.316647    -1.896116\n",
              "\n",
              "[466 rows x 31 columns]"
            ]
          },
          "metadata": {},
          "execution_count": 25
        }
      ]
    },
    {
      "cell_type": "code",
      "metadata": {
        "id": "oHLp3do7ZqOt"
      },
      "source": [
        "selected_cases.reset_index(drop=True, inplace=True)\n",
        "Fraud.reset_index(drop=True, inplace=True)"
      ],
      "execution_count": null,
      "outputs": []
    },
    {
      "cell_type": "code",
      "metadata": {
        "colab": {
          "base_uri": "https://localhost:8080/"
        },
        "id": "nR_VaUuuZ5wU",
        "outputId": "84ed8923-d58e-4337-8904-0e340ccaf4ee"
      },
      "source": [
        "SUBSAMPLE = pd.concat([selected_cases, Fraud])\n",
        "len(SUBSAMPLE)"
      ],
      "execution_count": null,
      "outputs": [
        {
          "output_type": "execute_result",
          "data": {
            "text/plain": [
              "932"
            ]
          },
          "metadata": {},
          "execution_count": 27
        }
      ]
    },
    {
      "cell_type": "code",
      "metadata": {
        "colab": {
          "base_uri": "https://localhost:8080/",
          "height": 443
        },
        "id": "ZNSra8EeZ_VG",
        "outputId": "1f6b204b-4532-4160-bd4d-3996a9aefaf4"
      },
      "source": [
        "SUBSAMPLE = SUBSAMPLE.sample(frac=1).reset_index(drop=True)\n",
        "SUBSAMPLE"
      ],
      "execution_count": null,
      "outputs": [
        {
          "output_type": "execute_result",
          "data": {
            "text/html": [
              "<div>\n",
              "<style scoped>\n",
              "    .dataframe tbody tr th:only-of-type {\n",
              "        vertical-align: middle;\n",
              "    }\n",
              "\n",
              "    .dataframe tbody tr th {\n",
              "        vertical-align: top;\n",
              "    }\n",
              "\n",
              "    .dataframe thead th {\n",
              "        text-align: right;\n",
              "    }\n",
              "</style>\n",
              "<table border=\"1\" class=\"dataframe\">\n",
              "  <thead>\n",
              "    <tr style=\"text-align: right;\">\n",
              "      <th></th>\n",
              "      <th>V1</th>\n",
              "      <th>V2</th>\n",
              "      <th>V3</th>\n",
              "      <th>V4</th>\n",
              "      <th>V5</th>\n",
              "      <th>V6</th>\n",
              "      <th>V7</th>\n",
              "      <th>V8</th>\n",
              "      <th>V9</th>\n",
              "      <th>V10</th>\n",
              "      <th>V11</th>\n",
              "      <th>V12</th>\n",
              "      <th>V13</th>\n",
              "      <th>V14</th>\n",
              "      <th>V15</th>\n",
              "      <th>V16</th>\n",
              "      <th>V17</th>\n",
              "      <th>V18</th>\n",
              "      <th>V19</th>\n",
              "      <th>V20</th>\n",
              "      <th>V21</th>\n",
              "      <th>V22</th>\n",
              "      <th>V23</th>\n",
              "      <th>V24</th>\n",
              "      <th>V25</th>\n",
              "      <th>V26</th>\n",
              "      <th>V27</th>\n",
              "      <th>V28</th>\n",
              "      <th>Class</th>\n",
              "      <th>SCALED_AMOUNT</th>\n",
              "      <th>SCALED_TIME</th>\n",
              "    </tr>\n",
              "  </thead>\n",
              "  <tbody>\n",
              "    <tr>\n",
              "      <th>0</th>\n",
              "      <td>0.447396</td>\n",
              "      <td>2.481954</td>\n",
              "      <td>-5.660814</td>\n",
              "      <td>4.455923</td>\n",
              "      <td>-2.443780</td>\n",
              "      <td>-2.185040</td>\n",
              "      <td>-4.716143</td>\n",
              "      <td>1.249803</td>\n",
              "      <td>-0.718326</td>\n",
              "      <td>-5.390330</td>\n",
              "      <td>6.454188</td>\n",
              "      <td>-8.485347</td>\n",
              "      <td>0.635281</td>\n",
              "      <td>-7.019902</td>\n",
              "      <td>0.539814</td>\n",
              "      <td>-4.649864</td>\n",
              "      <td>-6.288358</td>\n",
              "      <td>-1.339312</td>\n",
              "      <td>2.262985</td>\n",
              "      <td>0.549613</td>\n",
              "      <td>0.756053</td>\n",
              "      <td>0.140168</td>\n",
              "      <td>0.665411</td>\n",
              "      <td>0.131464</td>\n",
              "      <td>-1.908217</td>\n",
              "      <td>0.334808</td>\n",
              "      <td>0.748534</td>\n",
              "      <td>0.175414</td>\n",
              "      <td>1</td>\n",
              "      <td>-0.349231</td>\n",
              "      <td>-1.817001</td>\n",
              "    </tr>\n",
              "    <tr>\n",
              "      <th>1</th>\n",
              "      <td>0.304984</td>\n",
              "      <td>1.192970</td>\n",
              "      <td>0.281089</td>\n",
              "      <td>1.788776</td>\n",
              "      <td>1.414086</td>\n",
              "      <td>0.060321</td>\n",
              "      <td>1.015477</td>\n",
              "      <td>-0.490187</td>\n",
              "      <td>-0.514225</td>\n",
              "      <td>0.660121</td>\n",
              "      <td>-1.385064</td>\n",
              "      <td>-1.108093</td>\n",
              "      <td>0.111750</td>\n",
              "      <td>-1.560102</td>\n",
              "      <td>0.445526</td>\n",
              "      <td>1.248733</td>\n",
              "      <td>-0.505067</td>\n",
              "      <td>0.550404</td>\n",
              "      <td>-0.580474</td>\n",
              "      <td>0.020079</td>\n",
              "      <td>-0.323557</td>\n",
              "      <td>-0.751021</td>\n",
              "      <td>-0.083276</td>\n",
              "      <td>-1.165947</td>\n",
              "      <td>-0.439838</td>\n",
              "      <td>-0.325411</td>\n",
              "      <td>-0.629770</td>\n",
              "      <td>-0.474169</td>\n",
              "      <td>0</td>\n",
              "      <td>-0.349231</td>\n",
              "      <td>-1.311716</td>\n",
              "    </tr>\n",
              "    <tr>\n",
              "      <th>2</th>\n",
              "      <td>1.001992</td>\n",
              "      <td>0.047938</td>\n",
              "      <td>-0.349002</td>\n",
              "      <td>1.493958</td>\n",
              "      <td>0.186939</td>\n",
              "      <td>0.190966</td>\n",
              "      <td>-0.001112</td>\n",
              "      <td>0.147140</td>\n",
              "      <td>0.580415</td>\n",
              "      <td>-0.792938</td>\n",
              "      <td>-0.984172</td>\n",
              "      <td>-0.567380</td>\n",
              "      <td>-1.105592</td>\n",
              "      <td>-1.381214</td>\n",
              "      <td>0.405490</td>\n",
              "      <td>0.279890</td>\n",
              "      <td>1.132160</td>\n",
              "      <td>0.092993</td>\n",
              "      <td>-0.298920</td>\n",
              "      <td>0.016004</td>\n",
              "      <td>-0.334417</td>\n",
              "      <td>-1.014315</td>\n",
              "      <td>-0.128427</td>\n",
              "      <td>-0.946242</td>\n",
              "      <td>0.456090</td>\n",
              "      <td>-0.453206</td>\n",
              "      <td>0.046627</td>\n",
              "      <td>0.064698</td>\n",
              "      <td>1</td>\n",
              "      <td>0.070528</td>\n",
              "      <td>-1.038426</td>\n",
              "    </tr>\n",
              "    <tr>\n",
              "      <th>3</th>\n",
              "      <td>-4.617461</td>\n",
              "      <td>3.663395</td>\n",
              "      <td>-5.297446</td>\n",
              "      <td>3.880960</td>\n",
              "      <td>-3.263551</td>\n",
              "      <td>-0.918547</td>\n",
              "      <td>-5.715262</td>\n",
              "      <td>0.831040</td>\n",
              "      <td>-2.457034</td>\n",
              "      <td>-5.726817</td>\n",
              "      <td>3.525726</td>\n",
              "      <td>-6.489112</td>\n",
              "      <td>-1.012791</td>\n",
              "      <td>-7.052311</td>\n",
              "      <td>0.784445</td>\n",
              "      <td>-6.773977</td>\n",
              "      <td>-8.588070</td>\n",
              "      <td>-4.510892</td>\n",
              "      <td>1.147878</td>\n",
              "      <td>-0.346456</td>\n",
              "      <td>2.698175</td>\n",
              "      <td>-0.027081</td>\n",
              "      <td>0.366775</td>\n",
              "      <td>-0.123011</td>\n",
              "      <td>-0.300457</td>\n",
              "      <td>-0.239996</td>\n",
              "      <td>-0.183463</td>\n",
              "      <td>-0.073360</td>\n",
              "      <td>1</td>\n",
              "      <td>-0.349231</td>\n",
              "      <td>-1.061759</td>\n",
              "    </tr>\n",
              "    <tr>\n",
              "      <th>4</th>\n",
              "      <td>-12.833631</td>\n",
              "      <td>7.508790</td>\n",
              "      <td>-20.491952</td>\n",
              "      <td>7.465780</td>\n",
              "      <td>-11.575304</td>\n",
              "      <td>-5.140999</td>\n",
              "      <td>-14.020564</td>\n",
              "      <td>8.332120</td>\n",
              "      <td>-4.337713</td>\n",
              "      <td>-15.563791</td>\n",
              "      <td>7.610820</td>\n",
              "      <td>-15.592323</td>\n",
              "      <td>0.504789</td>\n",
              "      <td>-13.247889</td>\n",
              "      <td>-0.796526</td>\n",
              "      <td>-10.342328</td>\n",
              "      <td>-16.044524</td>\n",
              "      <td>-5.882136</td>\n",
              "      <td>1.573698</td>\n",
              "      <td>-1.378923</td>\n",
              "      <td>2.966842</td>\n",
              "      <td>0.615344</td>\n",
              "      <td>-0.766495</td>\n",
              "      <td>0.431261</td>\n",
              "      <td>-0.104975</td>\n",
              "      <td>-0.010091</td>\n",
              "      <td>-2.400811</td>\n",
              "      <td>-0.720557</td>\n",
              "      <td>1</td>\n",
              "      <td>0.062692</td>\n",
              "      <td>-0.019686</td>\n",
              "    </tr>\n",
              "    <tr>\n",
              "      <th>...</th>\n",
              "      <td>...</td>\n",
              "      <td>...</td>\n",
              "      <td>...</td>\n",
              "      <td>...</td>\n",
              "      <td>...</td>\n",
              "      <td>...</td>\n",
              "      <td>...</td>\n",
              "      <td>...</td>\n",
              "      <td>...</td>\n",
              "      <td>...</td>\n",
              "      <td>...</td>\n",
              "      <td>...</td>\n",
              "      <td>...</td>\n",
              "      <td>...</td>\n",
              "      <td>...</td>\n",
              "      <td>...</td>\n",
              "      <td>...</td>\n",
              "      <td>...</td>\n",
              "      <td>...</td>\n",
              "      <td>...</td>\n",
              "      <td>...</td>\n",
              "      <td>...</td>\n",
              "      <td>...</td>\n",
              "      <td>...</td>\n",
              "      <td>...</td>\n",
              "      <td>...</td>\n",
              "      <td>...</td>\n",
              "      <td>...</td>\n",
              "      <td>...</td>\n",
              "      <td>...</td>\n",
              "      <td>...</td>\n",
              "    </tr>\n",
              "    <tr>\n",
              "      <th>927</th>\n",
              "      <td>-0.079001</td>\n",
              "      <td>1.015106</td>\n",
              "      <td>-0.599947</td>\n",
              "      <td>-0.421078</td>\n",
              "      <td>0.919958</td>\n",
              "      <td>-0.848379</td>\n",
              "      <td>1.367136</td>\n",
              "      <td>-0.420999</td>\n",
              "      <td>0.396751</td>\n",
              "      <td>-0.545190</td>\n",
              "      <td>-1.393129</td>\n",
              "      <td>-1.618205</td>\n",
              "      <td>-1.716640</td>\n",
              "      <td>-0.848372</td>\n",
              "      <td>0.981164</td>\n",
              "      <td>0.227304</td>\n",
              "      <td>0.247839</td>\n",
              "      <td>1.197865</td>\n",
              "      <td>0.163683</td>\n",
              "      <td>0.024793</td>\n",
              "      <td>0.173500</td>\n",
              "      <td>0.815458</td>\n",
              "      <td>-0.331416</td>\n",
              "      <td>-0.831790</td>\n",
              "      <td>-0.411798</td>\n",
              "      <td>-0.133838</td>\n",
              "      <td>0.182240</td>\n",
              "      <td>0.064419</td>\n",
              "      <td>0</td>\n",
              "      <td>-0.158722</td>\n",
              "      <td>1.148249</td>\n",
              "    </tr>\n",
              "    <tr>\n",
              "      <th>928</th>\n",
              "      <td>1.651621</td>\n",
              "      <td>-0.162645</td>\n",
              "      <td>-0.925212</td>\n",
              "      <td>3.478225</td>\n",
              "      <td>0.631814</td>\n",
              "      <td>1.296607</td>\n",
              "      <td>-0.137972</td>\n",
              "      <td>0.281079</td>\n",
              "      <td>-0.741832</td>\n",
              "      <td>1.537538</td>\n",
              "      <td>-0.675607</td>\n",
              "      <td>-0.329312</td>\n",
              "      <td>-0.621438</td>\n",
              "      <td>0.343627</td>\n",
              "      <td>-1.093949</td>\n",
              "      <td>1.619594</td>\n",
              "      <td>-1.472447</td>\n",
              "      <td>0.690220</td>\n",
              "      <td>-0.926931</td>\n",
              "      <td>0.039236</td>\n",
              "      <td>0.055927</td>\n",
              "      <td>-0.233791</td>\n",
              "      <td>0.015677</td>\n",
              "      <td>-0.413646</td>\n",
              "      <td>-0.168536</td>\n",
              "      <td>-0.116151</td>\n",
              "      <td>-0.055165</td>\n",
              "      <td>-0.027284</td>\n",
              "      <td>0</td>\n",
              "      <td>0.266434</td>\n",
              "      <td>0.930468</td>\n",
              "    </tr>\n",
              "    <tr>\n",
              "      <th>929</th>\n",
              "      <td>-1.220220</td>\n",
              "      <td>-1.729458</td>\n",
              "      <td>-1.118957</td>\n",
              "      <td>-0.266099</td>\n",
              "      <td>0.823338</td>\n",
              "      <td>-0.098556</td>\n",
              "      <td>-0.407751</td>\n",
              "      <td>0.563010</td>\n",
              "      <td>-1.007790</td>\n",
              "      <td>0.261245</td>\n",
              "      <td>-0.841608</td>\n",
              "      <td>-0.041129</td>\n",
              "      <td>-0.628463</td>\n",
              "      <td>0.742288</td>\n",
              "      <td>-1.038836</td>\n",
              "      <td>-2.133763</td>\n",
              "      <td>0.200161</td>\n",
              "      <td>2.264390</td>\n",
              "      <td>0.791250</td>\n",
              "      <td>0.140809</td>\n",
              "      <td>0.237283</td>\n",
              "      <td>0.487028</td>\n",
              "      <td>0.286055</td>\n",
              "      <td>-0.119733</td>\n",
              "      <td>-0.909162</td>\n",
              "      <td>-0.117020</td>\n",
              "      <td>0.173995</td>\n",
              "      <td>-0.023852</td>\n",
              "      <td>0</td>\n",
              "      <td>0.266474</td>\n",
              "      <td>0.839203</td>\n",
              "    </tr>\n",
              "    <tr>\n",
              "      <th>930</th>\n",
              "      <td>-0.517876</td>\n",
              "      <td>1.301368</td>\n",
              "      <td>1.814671</td>\n",
              "      <td>2.819944</td>\n",
              "      <td>-0.063020</td>\n",
              "      <td>1.125577</td>\n",
              "      <td>-0.107969</td>\n",
              "      <td>-0.660794</td>\n",
              "      <td>-0.686159</td>\n",
              "      <td>0.698437</td>\n",
              "      <td>-1.646638</td>\n",
              "      <td>-0.105246</td>\n",
              "      <td>0.940030</td>\n",
              "      <td>-0.517796</td>\n",
              "      <td>0.221977</td>\n",
              "      <td>-0.082989</td>\n",
              "      <td>-0.040851</td>\n",
              "      <td>0.431655</td>\n",
              "      <td>1.210151</td>\n",
              "      <td>-0.032961</td>\n",
              "      <td>0.916569</td>\n",
              "      <td>0.445854</td>\n",
              "      <td>-0.134101</td>\n",
              "      <td>-0.398049</td>\n",
              "      <td>-0.301872</td>\n",
              "      <td>0.355057</td>\n",
              "      <td>0.133350</td>\n",
              "      <td>0.155907</td>\n",
              "      <td>0</td>\n",
              "      <td>-0.251118</td>\n",
              "      <td>-0.279941</td>\n",
              "    </tr>\n",
              "    <tr>\n",
              "      <th>931</th>\n",
              "      <td>1.980514</td>\n",
              "      <td>0.087583</td>\n",
              "      <td>-1.621884</td>\n",
              "      <td>0.513985</td>\n",
              "      <td>0.064400</td>\n",
              "      <td>-1.324051</td>\n",
              "      <td>0.205982</td>\n",
              "      <td>-0.334488</td>\n",
              "      <td>0.919964</td>\n",
              "      <td>-0.922959</td>\n",
              "      <td>-0.322942</td>\n",
              "      <td>0.633684</td>\n",
              "      <td>0.498021</td>\n",
              "      <td>-1.715243</td>\n",
              "      <td>-0.186998</td>\n",
              "      <td>-0.007321</td>\n",
              "      <td>1.160553</td>\n",
              "      <td>-0.005013</td>\n",
              "      <td>0.087735</td>\n",
              "      <td>-0.099981</td>\n",
              "      <td>-0.233955</td>\n",
              "      <td>-0.418184</td>\n",
              "      <td>0.159819</td>\n",
              "      <td>-0.062649</td>\n",
              "      <td>-0.050826</td>\n",
              "      <td>-0.095493</td>\n",
              "      <td>-0.004429</td>\n",
              "      <td>-0.013010</td>\n",
              "      <td>0</td>\n",
              "      <td>-0.233287</td>\n",
              "      <td>1.150566</td>\n",
              "    </tr>\n",
              "  </tbody>\n",
              "</table>\n",
              "<p>932 rows × 31 columns</p>\n",
              "</div>"
            ],
            "text/plain": [
              "            V1        V2         V3  ...  Class  SCALED_AMOUNT  SCALED_TIME\n",
              "0     0.447396  2.481954  -5.660814  ...      1      -0.349231    -1.817001\n",
              "1     0.304984  1.192970   0.281089  ...      0      -0.349231    -1.311716\n",
              "2     1.001992  0.047938  -0.349002  ...      1       0.070528    -1.038426\n",
              "3    -4.617461  3.663395  -5.297446  ...      1      -0.349231    -1.061759\n",
              "4   -12.833631  7.508790 -20.491952  ...      1       0.062692    -0.019686\n",
              "..         ...       ...        ...  ...    ...            ...          ...\n",
              "927  -0.079001  1.015106  -0.599947  ...      0      -0.158722     1.148249\n",
              "928   1.651621 -0.162645  -0.925212  ...      0       0.266434     0.930468\n",
              "929  -1.220220 -1.729458  -1.118957  ...      0       0.266474     0.839203\n",
              "930  -0.517876  1.301368   1.814671  ...      0      -0.251118    -0.279941\n",
              "931   1.980514  0.087583  -1.621884  ...      0      -0.233287     1.150566\n",
              "\n",
              "[932 rows x 31 columns]"
            ]
          },
          "metadata": {},
          "execution_count": 28
        }
      ]
    },
    {
      "cell_type": "code",
      "metadata": {
        "colab": {
          "base_uri": "https://localhost:8080/",
          "height": 535
        },
        "id": "3QLcvr1eadVJ",
        "outputId": "a4db6f1a-cfdd-4ac7-f6e8-d608153b5d27"
      },
      "source": [
        "New_Counts = SUBSAMPLE.Class.value_counts()\n",
        "plt.figure(figsize=(10,8))\n",
        "sns.barplot(x=New_Counts.index, y=New_Counts)\n",
        "plt.title('Non-Fraudulent vs. Fraudulent Transactions')\n",
        "plt.xlabel('Class')\n",
        "plt.ylabel('Count')\n"
      ],
      "execution_count": null,
      "outputs": [
        {
          "output_type": "execute_result",
          "data": {
            "text/plain": [
              "Text(0, 0.5, 'Count')"
            ]
          },
          "metadata": {},
          "execution_count": 29
        },
        {
          "output_type": "display_data",
          "data": {
            "image/png": "[encoded data removed]",
            "text/plain": [
              "<Figure size 720x576 with 1 Axes>"
            ]
          },
          "metadata": {}
        }
      ]
    },
    {
      "cell_type": "code",
      "metadata": {
        "colab": {
          "base_uri": "https://localhost:8080/",
          "height": 1000
        },
        "id": "J8nUve-aamhu",
        "outputId": "3aec6660-836d-4ca8-8e40-ed7e803bdbaa"
      },
      "source": [
        "corelation = SUBSAMPLE.corr()\n",
        "corelation = corelation[['Class']]\n",
        "corelation"
      ],
      "execution_count": null,
      "outputs": [
        {
          "output_type": "execute_result",
          "data": {
            "text/html": [
              "<div>\n",
              "<style scoped>\n",
              "    .dataframe tbody tr th:only-of-type {\n",
              "        vertical-align: middle;\n",
              "    }\n",
              "\n",
              "    .dataframe tbody tr th {\n",
              "        vertical-align: top;\n",
              "    }\n",
              "\n",
              "    .dataframe thead th {\n",
              "        text-align: right;\n",
              "    }\n",
              "</style>\n",
              "<table border=\"1\" class=\"dataframe\">\n",
              "  <thead>\n",
              "    <tr style=\"text-align: right;\">\n",
              "      <th></th>\n",
              "      <th>Class</th>\n",
              "    </tr>\n",
              "  </thead>\n",
              "  <tbody>\n",
              "    <tr>\n",
              "      <th>V1</th>\n",
              "      <td>-0.428746</td>\n",
              "    </tr>\n",
              "    <tr>\n",
              "      <th>V2</th>\n",
              "      <td>0.499481</td>\n",
              "    </tr>\n",
              "    <tr>\n",
              "      <th>V3</th>\n",
              "      <td>-0.563839</td>\n",
              "    </tr>\n",
              "    <tr>\n",
              "      <th>V4</th>\n",
              "      <td>0.713821</td>\n",
              "    </tr>\n",
              "    <tr>\n",
              "      <th>V5</th>\n",
              "      <td>-0.386737</td>\n",
              "    </tr>\n",
              "    <tr>\n",
              "      <th>V6</th>\n",
              "      <td>-0.416392</td>\n",
              "    </tr>\n",
              "    <tr>\n",
              "      <th>V7</th>\n",
              "      <td>-0.477423</td>\n",
              "    </tr>\n",
              "    <tr>\n",
              "      <th>V8</th>\n",
              "      <td>0.055210</td>\n",
              "    </tr>\n",
              "    <tr>\n",
              "      <th>V9</th>\n",
              "      <td>-0.572281</td>\n",
              "    </tr>\n",
              "    <tr>\n",
              "      <th>V10</th>\n",
              "      <td>-0.627058</td>\n",
              "    </tr>\n",
              "    <tr>\n",
              "      <th>V11</th>\n",
              "      <td>0.689424</td>\n",
              "    </tr>\n",
              "    <tr>\n",
              "      <th>V12</th>\n",
              "      <td>-0.682865</td>\n",
              "    </tr>\n",
              "    <tr>\n",
              "      <th>V13</th>\n",
              "      <td>-0.047621</td>\n",
              "    </tr>\n",
              "    <tr>\n",
              "      <th>V14</th>\n",
              "      <td>-0.746207</td>\n",
              "    </tr>\n",
              "    <tr>\n",
              "      <th>V15</th>\n",
              "      <td>-0.012830</td>\n",
              "    </tr>\n",
              "    <tr>\n",
              "      <th>V16</th>\n",
              "      <td>-0.598819</td>\n",
              "    </tr>\n",
              "    <tr>\n",
              "      <th>V17</th>\n",
              "      <td>-0.559501</td>\n",
              "    </tr>\n",
              "    <tr>\n",
              "      <th>V18</th>\n",
              "      <td>-0.467733</td>\n",
              "    </tr>\n",
              "    <tr>\n",
              "      <th>V19</th>\n",
              "      <td>0.273698</td>\n",
              "    </tr>\n",
              "    <tr>\n",
              "      <th>V20</th>\n",
              "      <td>0.156504</td>\n",
              "    </tr>\n",
              "    <tr>\n",
              "      <th>V21</th>\n",
              "      <td>0.121269</td>\n",
              "    </tr>\n",
              "    <tr>\n",
              "      <th>V22</th>\n",
              "      <td>0.008411</td>\n",
              "    </tr>\n",
              "    <tr>\n",
              "      <th>V23</th>\n",
              "      <td>-0.029764</td>\n",
              "    </tr>\n",
              "    <tr>\n",
              "      <th>V24</th>\n",
              "      <td>-0.023624</td>\n",
              "    </tr>\n",
              "    <tr>\n",
              "      <th>V25</th>\n",
              "      <td>0.069154</td>\n",
              "    </tr>\n",
              "    <tr>\n",
              "      <th>V26</th>\n",
              "      <td>0.021079</td>\n",
              "    </tr>\n",
              "    <tr>\n",
              "      <th>V27</th>\n",
              "      <td>0.073225</td>\n",
              "    </tr>\n",
              "    <tr>\n",
              "      <th>V28</th>\n",
              "      <td>0.089358</td>\n",
              "    </tr>\n",
              "    <tr>\n",
              "      <th>Class</th>\n",
              "      <td>1.000000</td>\n",
              "    </tr>\n",
              "    <tr>\n",
              "      <th>SCALED_AMOUNT</th>\n",
              "      <td>0.055255</td>\n",
              "    </tr>\n",
              "    <tr>\n",
              "      <th>SCALED_TIME</th>\n",
              "      <td>-0.167766</td>\n",
              "    </tr>\n",
              "  </tbody>\n",
              "</table>\n",
              "</div>"
            ],
            "text/plain": [
              "                  Class\n",
              "V1            -0.428746\n",
              "V2             0.499481\n",
              "V3            -0.563839\n",
              "V4             0.713821\n",
              "V5            -0.386737\n",
              "V6            -0.416392\n",
              "V7            -0.477423\n",
              "V8             0.055210\n",
              "V9            -0.572281\n",
              "V10           -0.627058\n",
              "V11            0.689424\n",
              "V12           -0.682865\n",
              "V13           -0.047621\n",
              "V14           -0.746207\n",
              "V15           -0.012830\n",
              "V16           -0.598819\n",
              "V17           -0.559501\n",
              "V18           -0.467733\n",
              "V19            0.273698\n",
              "V20            0.156504\n",
              "V21            0.121269\n",
              "V22            0.008411\n",
              "V23           -0.029764\n",
              "V24           -0.023624\n",
              "V25            0.069154\n",
              "V26            0.021079\n",
              "V27            0.073225\n",
              "V28            0.089358\n",
              "Class          1.000000\n",
              "SCALED_AMOUNT  0.055255\n",
              "SCALED_TIME   -0.167766"
            ]
          },
          "metadata": {},
          "execution_count": 30
        }
      ]
    },
    {
      "cell_type": "code",
      "metadata": {
        "colab": {
          "base_uri": "https://localhost:8080/",
          "height": 287
        },
        "id": "GBZO-AD2bJ5U",
        "outputId": "0b960fd1-597a-4bca-c07e-380c056da0df"
      },
      "source": [
        "print(\"Negative corelations\")\n",
        "corelation[corelation.Class < -0.5]"
      ],
      "execution_count": null,
      "outputs": [
        {
          "output_type": "stream",
          "name": "stdout",
          "text": [
            "Negative corelations\n"
          ]
        },
        {
          "output_type": "execute_result",
          "data": {
            "text/html": [
              "<div>\n",
              "<style scoped>\n",
              "    .dataframe tbody tr th:only-of-type {\n",
              "        vertical-align: middle;\n",
              "    }\n",
              "\n",
              "    .dataframe tbody tr th {\n",
              "        vertical-align: top;\n",
              "    }\n",
              "\n",
              "    .dataframe thead th {\n",
              "        text-align: right;\n",
              "    }\n",
              "</style>\n",
              "<table border=\"1\" class=\"dataframe\">\n",
              "  <thead>\n",
              "    <tr style=\"text-align: right;\">\n",
              "      <th></th>\n",
              "      <th>Class</th>\n",
              "    </tr>\n",
              "  </thead>\n",
              "  <tbody>\n",
              "    <tr>\n",
              "      <th>V3</th>\n",
              "      <td>-0.563839</td>\n",
              "    </tr>\n",
              "    <tr>\n",
              "      <th>V9</th>\n",
              "      <td>-0.572281</td>\n",
              "    </tr>\n",
              "    <tr>\n",
              "      <th>V10</th>\n",
              "      <td>-0.627058</td>\n",
              "    </tr>\n",
              "    <tr>\n",
              "      <th>V12</th>\n",
              "      <td>-0.682865</td>\n",
              "    </tr>\n",
              "    <tr>\n",
              "      <th>V14</th>\n",
              "      <td>-0.746207</td>\n",
              "    </tr>\n",
              "    <tr>\n",
              "      <th>V16</th>\n",
              "      <td>-0.598819</td>\n",
              "    </tr>\n",
              "    <tr>\n",
              "      <th>V17</th>\n",
              "      <td>-0.559501</td>\n",
              "    </tr>\n",
              "  </tbody>\n",
              "</table>\n",
              "</div>"
            ],
            "text/plain": [
              "        Class\n",
              "V3  -0.563839\n",
              "V9  -0.572281\n",
              "V10 -0.627058\n",
              "V12 -0.682865\n",
              "V14 -0.746207\n",
              "V16 -0.598819\n",
              "V17 -0.559501"
            ]
          },
          "metadata": {},
          "execution_count": 31
        }
      ]
    },
    {
      "cell_type": "code",
      "metadata": {
        "colab": {
          "base_uri": "https://localhost:8080/",
          "height": 162
        },
        "id": "7EXtRrv7bY_f",
        "outputId": "995e5e33-1200-468f-ad46-cfd46411158b"
      },
      "source": [
        "print(\"Positive corelations\")\n",
        "corelation[corelation.Class > 0.5]"
      ],
      "execution_count": null,
      "outputs": [
        {
          "output_type": "stream",
          "name": "stdout",
          "text": [
            "Positive corelations\n"
          ]
        },
        {
          "output_type": "execute_result",
          "data": {
            "text/html": [
              "<div>\n",
              "<style scoped>\n",
              "    .dataframe tbody tr th:only-of-type {\n",
              "        vertical-align: middle;\n",
              "    }\n",
              "\n",
              "    .dataframe tbody tr th {\n",
              "        vertical-align: top;\n",
              "    }\n",
              "\n",
              "    .dataframe thead th {\n",
              "        text-align: right;\n",
              "    }\n",
              "</style>\n",
              "<table border=\"1\" class=\"dataframe\">\n",
              "  <thead>\n",
              "    <tr style=\"text-align: right;\">\n",
              "      <th></th>\n",
              "      <th>Class</th>\n",
              "    </tr>\n",
              "  </thead>\n",
              "  <tbody>\n",
              "    <tr>\n",
              "      <th>V4</th>\n",
              "      <td>0.713821</td>\n",
              "    </tr>\n",
              "    <tr>\n",
              "      <th>V11</th>\n",
              "      <td>0.689424</td>\n",
              "    </tr>\n",
              "    <tr>\n",
              "      <th>Class</th>\n",
              "      <td>1.000000</td>\n",
              "    </tr>\n",
              "  </tbody>\n",
              "</table>\n",
              "</div>"
            ],
            "text/plain": [
              "          Class\n",
              "V4     0.713821\n",
              "V11    0.689424\n",
              "Class  1.000000"
            ]
          },
          "metadata": {},
          "execution_count": 32
        }
      ]
    },
    {
      "cell_type": "code",
      "metadata": {
        "colab": {
          "base_uri": "https://localhost:8080/",
          "height": 927
        },
        "id": "_8HZwUcfbgN5",
        "outputId": "2b28a7ca-af64-4e78-dac4-e4ca593aeb65"
      },
      "source": [
        "f, axes = plt.subplots(nrows=2, ncols=4, figsize=(24,14))\n",
        "\n",
        "f.suptitle('Distribution of Features With High Negative Correlation', size=30)\n",
        "sns.boxplot(x=\"Class\", y=\"V3\", data=SUBSAMPLE, ax=axes[0,0])\n",
        "sns.boxplot(x=\"Class\", y=\"V9\", data=SUBSAMPLE, ax=axes[0,1])\n",
        "sns.boxplot(x=\"Class\", y=\"V10\", data=SUBSAMPLE, ax=axes[0,2])\n",
        "sns.boxplot(x=\"Class\", y=\"V12\", data=SUBSAMPLE, ax=axes[0,3])\n",
        "sns.boxplot(x=\"Class\", y=\"V14\", data=SUBSAMPLE, ax=axes[1,0])\n",
        "sns.boxplot(x=\"Class\", y=\"V16\", data=SUBSAMPLE, ax=axes[1,1])\n",
        "sns.boxplot(x=\"Class\", y=\"V17\", data=SUBSAMPLE, ax=axes[1,2])\n",
        "f.delaxes(axes[1,3])"
      ],
      "execution_count": null,
      "outputs": [
        {
          "output_type": "display_data",
          "data": {
            "image/png": "[encoded data removed]",
            "text/plain": [
              "<Figure size 1728x1008 with 7 Axes>"
            ]
          },
          "metadata": {}
        }
      ]
    },
    {
      "cell_type": "code",
      "metadata": {
        "colab": {
          "base_uri": "https://localhost:8080/",
          "height": 700
        },
        "id": "XscXkBalbsSZ",
        "outputId": "dd0936b8-e4f2-43bf-c084-85caea455999"
      },
      "source": [
        "f, axes = plt.subplots(nrows=1, ncols=2, figsize=(16,10))\n",
        "\n",
        "f.suptitle('Features With High Positive Correlation', size=20)\n",
        "sns.boxplot(x=\"Class\", y=\"V4\", data=SUBSAMPLE, ax=axes[0])\n",
        "sns.boxplot(x=\"Class\", y=\"V11\", data=SUBSAMPLE, ax=axes[1])"
      ],
      "execution_count": null,
      "outputs": [
        {
          "output_type": "execute_result",
          "data": {
            "text/plain": [
              "<matplotlib.axes._subplots.AxesSubplot at 0x7fe1a8945b50>"
            ]
          },
          "metadata": {},
          "execution_count": 34
        },
        {
          "output_type": "display_data",
          "data": {
            "image/png": "[encoded data removed]",
            "text/plain": [
              "<Figure size 1152x720 with 2 Axes>"
            ]
          },
          "metadata": {}
        }
      ]
    },
    {
      "cell_type": "code",
      "metadata": {
        "id": "KBIa-IKwbzkn"
      },
      "source": [
        "Quantile1 = SUBSAMPLE.quantile(0.25)\n",
        "Quantile3 = SUBSAMPLE.quantile(0.75)\n",
        "InterQ = Quantile3 - Quantile1\n",
        "\n",
        "data2 = SUBSAMPLE[~((SUBSAMPLE < (Quantile1 - 2.5 * InterQ)) |(SUBSAMPLE > (Quantile3 + 2.5 * InterQ))).any(axis=1)]"
      ],
      "execution_count": null,
      "outputs": []
    },
    {
      "cell_type": "code",
      "metadata": {
        "colab": {
          "base_uri": "https://localhost:8080/"
        },
        "id": "4T8YQnrpb8Fi",
        "outputId": "41151524-1863-48e1-b6f9-2f63d5cda40a"
      },
      "source": [
        "AFTER = len(data2)\n",
        "BEFORE = len(SUBSAMPLE)\n",
        "Difference = len(SUBSAMPLE) - len(data2)\n",
        "print('The data size is reduced from {} transactions by {} transactions to {} transactions.'.format(BEFORE, Difference, AFTER))"
      ],
      "execution_count": null,
      "outputs": [
        {
          "output_type": "stream",
          "name": "stdout",
          "text": [
            "The data size is reduced from 932 transactions by 280 transactions to 652 transactions.\n"
          ]
        }
      ]
    },
    {
      "cell_type": "markdown",
      "metadata": {
        "id": "W8H6Zxb0Bwxi"
      },
      "source": [
        "**Dimensionality Reduction**"
      ]
    },
    {
      "cell_type": "code",
      "metadata": {
        "id": "G8xEQQODcMIr"
      },
      "source": [
        "from sklearn.manifold import TSNE\n",
        "\n",
        "X = data2.drop('Class', axis=1)\n",
        "y = data2['Class']"
      ],
      "execution_count": null,
      "outputs": []
    },
    {
      "cell_type": "code",
      "metadata": {
        "id": "CCzo8f5AC6n4",
        "colab": {
          "base_uri": "https://localhost:8080/"
        },
        "outputId": "b8a2ecae-2289-4ecf-eb93-d5b884448c35"
      },
      "source": [
        "#t-SNE\n",
        "X_reduced_tsne = TSNE(n_components=2, random_state=42).fit_transform(X.values)"
      ],
      "execution_count": null,
      "outputs": [
        {
          "output_type": "stream",
          "name": "stderr",
          "text": [
            "/usr/local/lib/python3.7/dist-packages/sklearn/manifold/_t_sne.py:783: FutureWarning: The default initialization in TSNE will change from 'random' to 'pca' in 1.2.\n",
            "  FutureWarning,\n",
            "/usr/local/lib/python3.7/dist-packages/sklearn/manifold/_t_sne.py:793: FutureWarning: The default learning rate in TSNE will change from 200.0 to 'auto' in 1.2.\n",
            "  FutureWarning,\n"
          ]
        }
      ]
    },
    {
      "cell_type": "code",
      "metadata": {
        "id": "Zgs00FKlC9tw",
        "colab": {
          "base_uri": "https://localhost:8080/",
          "height": 953
        },
        "outputId": "b93d6b7a-2d79-4584-c906-dae1df1e8b63"
      },
      "source": [
        "# t-SNE scatter plot\n",
        "import matplotlib.patches as mpatches\n",
        "\n",
        "f, ax = plt.subplots(figsize=(24,16))\n",
        "\n",
        "\n",
        "blue_patch = mpatches.Patch(color='#0A0AFF', label='No Fraud')\n",
        "red_patch = mpatches.Patch(color='#AF0000', label='Fraud')\n",
        "\n",
        "ax.scatter(X_reduced_tsne[:,0], X_reduced_tsne[:,1], c=(y == 0), cmap='coolwarm', label='No Fraud', linewidths=2)\n",
        "ax.scatter(X_reduced_tsne[:,0], X_reduced_tsne[:,1], c=(y == 1), cmap='coolwarm', label='Fraud', linewidths=2)\n",
        "ax.set_title('t-SNE', fontsize=14)\n",
        "\n",
        "ax.grid(True)\n",
        "\n",
        "ax.legend(handles=[blue_patch, red_patch])"
      ],
      "execution_count": null,
      "outputs": [
        {
          "output_type": "execute_result",
          "data": {
            "text/plain": [
              "<matplotlib.legend.Legend at 0x7fe1a8195a50>"
            ]
          },
          "metadata": {},
          "execution_count": 40
        },
        {
          "output_type": "display_data",
          "data": {
            "image/png": "[encoded data removed]",
            "text/plain": [
              "<Figure size 1728x1152 with 1 Axes>"
            ]
          },
          "metadata": {}
        }
      ]
    },
    {
      "cell_type": "markdown",
      "metadata": {
        "id": "DCvlr-iRDkxV"
      },
      "source": [
        "**Classification Algorithms**"
      ]
    },
    {
      "cell_type": "code",
      "metadata": {
        "id": "H3tEYLl6C070"
      },
      "source": [
        "def warn(*args, **kwargs):\n",
        "    pass\n",
        "import warnings\n",
        "warnings.warn = warn"
      ],
      "execution_count": null,
      "outputs": []
    },
    {
      "cell_type": "code",
      "metadata": {
        "id": "Z0uHjGrtDyh7"
      },
      "source": [
        "# train test split\n",
        "from sklearn.model_selection import train_test_split\n",
        "\n",
        "X_train, X_test, y_train, y_test = train_test_split(X, y, test_size = 0.25, random_state = 1)"
      ],
      "execution_count": null,
      "outputs": []
    },
    {
      "cell_type": "code",
      "metadata": {
        "id": "kDwAv68AD3Ja"
      },
      "source": [
        "X_train = X_train.values\n",
        "X_validation = X_test.values\n",
        "y_train = y_train.values\n",
        "y_validation = y_test.values"
      ],
      "execution_count": null,
      "outputs": []
    },
    {
      "cell_type": "code",
      "metadata": {
        "id": "-SQfWJr3D4SZ",
        "colab": {
          "base_uri": "https://localhost:8080/"
        },
        "outputId": "e524031b-ed93-4a25-9e65-24b7eca676eb"
      },
      "source": [
        "print('X_shapes:\\n', 'X_train:', 'X_validation:\\n', X_train.shape, X_validation.shape, '\\n')\n",
        "print('Y_shapes:\\n', 'Y_train:', 'Y_validation:\\n', y_train.shape, y_validation.shape)"
      ],
      "execution_count": null,
      "outputs": [
        {
          "output_type": "stream",
          "name": "stdout",
          "text": [
            "X_shapes:\n",
            " X_train: X_validation:\n",
            " (489, 30) (163, 30) \n",
            "\n",
            "Y_shapes:\n",
            " Y_train: Y_validation:\n",
            " (489,) (163,)\n"
          ]
        }
      ]
    },
    {
      "cell_type": "code",
      "metadata": {
        "id": "qhpYONT4EEl1"
      },
      "source": [
        "from sklearn.metrics import accuracy_score\n",
        "from sklearn.metrics import confusion_matrix\n",
        "from sklearn.metrics import f1_score\n",
        "from sklearn.tree import DecisionTreeClassifier\n",
        "from sklearn.metrics import confusion_matrix\n",
        "from sklearn.linear_model import LogisticRegression\n",
        "from sklearn.discriminant_analysis import LinearDiscriminantAnalysis\n",
        "from sklearn.neighbors import KNeighborsClassifier\n",
        "from sklearn.svm import SVC\n",
        "from xgboost import XGBClassifier"
      ],
      "execution_count": null,
      "outputs": []
    },
    {
      "cell_type": "markdown",
      "source": [
        "**Linear Discriminant Analysis**"
      ],
      "metadata": {
        "id": "vx8FP7i-5AVj"
      }
    },
    {
      "cell_type": "code",
      "source": [
        "LDA = LinearDiscriminantAnalysis()\n",
        "LDA.fit(X_train, y_train)\n",
        "LDA_pred = LDA.predict(X_validation)"
      ],
      "metadata": {
        "id": "UEOerlMZ4rzg"
      },
      "execution_count": null,
      "outputs": []
    },
    {
      "cell_type": "markdown",
      "source": [
        "Accuracy of LDA :"
      ],
      "metadata": {
        "id": "gqu73mSq5Fl2"
      }
    },
    {
      "cell_type": "code",
      "source": [
        "print('Accuracy score of the Linear Discriminant Analysis is {}'.format(accuracy_score(y_validation, LDA_pred)))"
      ],
      "metadata": {
        "colab": {
          "base_uri": "https://localhost:8080/"
        },
        "id": "6Mzd7yyD421Z",
        "outputId": "8b5b6665-cf24-44a1-ad32-49a48481740d"
      },
      "execution_count": null,
      "outputs": [
        {
          "output_type": "stream",
          "name": "stdout",
          "text": [
            "Accuracy score of the Linear Discriminant Analysis is 0.9325153374233128\n"
          ]
        }
      ]
    },
    {
      "cell_type": "markdown",
      "source": [
        "F1 Score :"
      ],
      "metadata": {
        "id": "nnH_SgA45IpF"
      }
    },
    {
      "cell_type": "code",
      "source": [
        "print('F1 score of the Linear Discriminant Analysis is {}'.format(f1_score(y_validation, LDA_pred)))"
      ],
      "metadata": {
        "colab": {
          "base_uri": "https://localhost:8080/"
        },
        "id": "47TG9rMH5JDY",
        "outputId": "cf81adf8-f518-4ce4-ef77-d4640ddfb599"
      },
      "execution_count": null,
      "outputs": [
        {
          "output_type": "stream",
          "name": "stdout",
          "text": [
            "F1 score of the Linear Discriminant Analysis is 0.9009009009009009\n"
          ]
        }
      ]
    },
    {
      "cell_type": "markdown",
      "source": [
        "Confusion Matrix :"
      ],
      "metadata": {
        "id": "jp7V3vuF5WdS"
      }
    },
    {
      "cell_type": "code",
      "source": [
        "confusion_matrix(y_validation, LDA_pred, labels = [0, 1])"
      ],
      "metadata": {
        "colab": {
          "base_uri": "https://localhost:8080/"
        },
        "id": "fARvts7o5Y-C",
        "outputId": "c4d7bf2d-732d-4afb-fc06-9c0a40669ad4"
      },
      "execution_count": null,
      "outputs": [
        {
          "output_type": "execute_result",
          "data": {
            "text/plain": [
              "array([[102,   0],\n",
              "       [ 11,  50]])"
            ]
          },
          "metadata": {},
          "execution_count": 49
        }
      ]
    },
    {
      "cell_type": "markdown",
      "source": [
        "**Logistic Regression**"
      ],
      "metadata": {
        "id": "PgHZrRfnyMeO"
      }
    },
    {
      "cell_type": "code",
      "source": [
        "LR = LogisticRegression()\n",
        "LR.fit(X_train, y_train)\n",
        "LR_pred = LR.predict(X_validation)"
      ],
      "metadata": {
        "id": "nbWY87UvyQR-"
      },
      "execution_count": null,
      "outputs": []
    },
    {
      "cell_type": "markdown",
      "source": [
        "Accuracy of Logistic Regression :"
      ],
      "metadata": {
        "id": "MBQxGWpZyUbx"
      }
    },
    {
      "cell_type": "code",
      "source": [
        "print('Accuracy score of the Logistic Regression model is {}'.format(accuracy_score(y_validation, LR_pred)))"
      ],
      "metadata": {
        "colab": {
          "base_uri": "https://localhost:8080/"
        },
        "id": "oVmmVTzryZC9",
        "outputId": "bc7308de-896c-4d62-dbaf-8df62cb636ea"
      },
      "execution_count": null,
      "outputs": [
        {
          "output_type": "stream",
          "name": "stdout",
          "text": [
            "Accuracy score of the Logistic Regression model is 0.9325153374233128\n"
          ]
        }
      ]
    },
    {
      "cell_type": "markdown",
      "source": [
        "F1 Score :"
      ],
      "metadata": {
        "id": "dJ_vEqC7ygur"
      }
    },
    {
      "cell_type": "code",
      "source": [
        "print('F1 score of the Logistic Regression model is {}'.format(f1_score(y_validation, LR_pred)))"
      ],
      "metadata": {
        "colab": {
          "base_uri": "https://localhost:8080/"
        },
        "id": "wJUitt01ysm5",
        "outputId": "dc9df967-4dd8-44fb-8bce-d72d17aaebf7"
      },
      "execution_count": null,
      "outputs": [
        {
          "output_type": "stream",
          "name": "stdout",
          "text": [
            "F1 score of the Logistic Regression model is 0.9043478260869565\n"
          ]
        }
      ]
    },
    {
      "cell_type": "markdown",
      "source": [
        "Confusion Matrix :"
      ],
      "metadata": {
        "id": "3Wajm2_jzTnI"
      }
    },
    {
      "cell_type": "code",
      "source": [
        "confusion_matrix(y_validation, LR_pred, labels = [0, 1])"
      ],
      "metadata": {
        "colab": {
          "base_uri": "https://localhost:8080/"
        },
        "id": "zrht4B8tzHho",
        "outputId": "78ea35f0-48c3-4144-e7ef-0b7437fa7654"
      },
      "execution_count": null,
      "outputs": [
        {
          "output_type": "execute_result",
          "data": {
            "text/plain": [
              "array([[100,   2],\n",
              "       [  9,  52]])"
            ]
          },
          "metadata": {},
          "execution_count": 53
        }
      ]
    },
    {
      "cell_type": "markdown",
      "source": [
        "**Decision Tree Algorithm**"
      ],
      "metadata": {
        "id": "_GNn2qZey3Fk"
      }
    },
    {
      "cell_type": "code",
      "source": [
        "Decision_Tree = DecisionTreeClassifier(max_depth = 4, criterion = 'entropy')\n",
        "Decision_Tree.fit(X_train, y_train)\n",
        "DT_pred = Decision_Tree.predict(X_validation)"
      ],
      "metadata": {
        "id": "hSJUdjVT2x75"
      },
      "execution_count": null,
      "outputs": []
    },
    {
      "cell_type": "markdown",
      "source": [
        "Accuracy of Decision Tree :"
      ],
      "metadata": {
        "id": "TM2fw0gcwqSl"
      }
    },
    {
      "cell_type": "code",
      "source": [
        "print('Accuracy score of the Decision Tree model is {}'.format(accuracy_score(y_validation, DT_pred)))"
      ],
      "metadata": {
        "colab": {
          "base_uri": "https://localhost:8080/"
        },
        "id": "jiRBqnR7ugtY",
        "outputId": "5d9b463f-5486-4d46-9a8f-cd3ca2910886"
      },
      "execution_count": null,
      "outputs": [
        {
          "output_type": "stream",
          "name": "stdout",
          "text": [
            "Accuracy score of the Decision Tree model is 0.901840490797546\n"
          ]
        }
      ]
    },
    {
      "cell_type": "markdown",
      "source": [
        "F1 Score :"
      ],
      "metadata": {
        "id": "plkrxPeQwvdg"
      }
    },
    {
      "cell_type": "code",
      "source": [
        "print('F1 score of the Decision Tree model is {}'.format(f1_score(y_validation, DT_pred)))"
      ],
      "metadata": {
        "colab": {
          "base_uri": "https://localhost:8080/"
        },
        "id": "1ruLWqAuwoQQ",
        "outputId": "2871d1e1-a54c-4854-c3db-3ca669a48a46"
      },
      "execution_count": null,
      "outputs": [
        {
          "output_type": "stream",
          "name": "stdout",
          "text": [
            "F1 score of the Decision Tree model is 0.8666666666666666\n"
          ]
        }
      ]
    },
    {
      "cell_type": "markdown",
      "source": [
        "Confusion Matrix :"
      ],
      "metadata": {
        "id": "ghXGcy7Ow8eM"
      }
    },
    {
      "cell_type": "code",
      "source": [
        "confusion_matrix(y_validation, DT_pred, labels = [0, 1])"
      ],
      "metadata": {
        "colab": {
          "base_uri": "https://localhost:8080/"
        },
        "id": "xxyzW7mOujwM",
        "outputId": "a0cfd583-c152-4f45-8024-4bd2064ee8f1"
      },
      "execution_count": null,
      "outputs": [
        {
          "output_type": "execute_result",
          "data": {
            "text/plain": [
              "array([[95,  7],\n",
              "       [ 9, 52]])"
            ]
          },
          "metadata": {},
          "execution_count": 57
        }
      ]
    },
    {
      "cell_type": "markdown",
      "source": [
        "**K-Nearest Neighbors**"
      ],
      "metadata": {
        "id": "NDhoO9zTxnkO"
      }
    },
    {
      "cell_type": "code",
      "source": [
        "N = 5\n",
        "KNN = KNeighborsClassifier(n_neighbors = N)\n",
        "KNN.fit(X_train, y_train)\n",
        "KNN_pred = KNN.predict(X_validation)"
      ],
      "metadata": {
        "id": "MMEcRvxWwEcn"
      },
      "execution_count": null,
      "outputs": []
    },
    {
      "cell_type": "markdown",
      "source": [
        "Accuracy of KNN :"
      ],
      "metadata": {
        "id": "wMsdpGUsxsoJ"
      }
    },
    {
      "cell_type": "code",
      "source": [
        "print('Accuracy score of the K-Nearest Neighbors model is {}'.format(accuracy_score(y_validation, KNN_pred)))"
      ],
      "metadata": {
        "colab": {
          "base_uri": "https://localhost:8080/"
        },
        "id": "OfsS0lQmxh4z",
        "outputId": "6fead5d9-4d8e-49c5-86ee-2d8ee6e9473c"
      },
      "execution_count": null,
      "outputs": [
        {
          "output_type": "stream",
          "name": "stdout",
          "text": [
            "Accuracy score of the K-Nearest Neighbors model is 0.9325153374233128\n"
          ]
        }
      ]
    },
    {
      "cell_type": "markdown",
      "source": [
        "F1 Score :"
      ],
      "metadata": {
        "id": "t_D7DItbx4xD"
      }
    },
    {
      "cell_type": "code",
      "source": [
        "print('F1 score of the K-Nearest Neighbors model is {}'.format(f1_score(y_validation, KNN_pred)))"
      ],
      "metadata": {
        "colab": {
          "base_uri": "https://localhost:8080/"
        },
        "id": "09Ue-3OMx-y8",
        "outputId": "58d4c64e-de5c-4f02-cdae-cbfb6d94a8c9"
      },
      "execution_count": null,
      "outputs": [
        {
          "output_type": "stream",
          "name": "stdout",
          "text": [
            "F1 score of the K-Nearest Neighbors model is 0.9026548672566372\n"
          ]
        }
      ]
    },
    {
      "cell_type": "markdown",
      "source": [
        "Confusion Matrix :"
      ],
      "metadata": {
        "id": "mLyTWGRmzk6y"
      }
    },
    {
      "cell_type": "code",
      "source": [
        "confusion_matrix(y_validation, KNN_pred, labels = [0, 1])"
      ],
      "metadata": {
        "colab": {
          "base_uri": "https://localhost:8080/"
        },
        "id": "Z6Z3bWNbyGke",
        "outputId": "4b8e10bb-368a-416d-9c30-5c2ad10e1e86"
      },
      "execution_count": null,
      "outputs": [
        {
          "output_type": "execute_result",
          "data": {
            "text/plain": [
              "array([[101,   1],\n",
              "       [ 10,  51]])"
            ]
          },
          "metadata": {},
          "execution_count": 61
        }
      ]
    },
    {
      "cell_type": "markdown",
      "source": [
        "**Support Vector Machines**"
      ],
      "metadata": {
        "id": "NnmcZd-oz7bP"
      }
    },
    {
      "cell_type": "code",
      "source": [
        "svm = SVC()\n",
        "svm.fit(X_train, y_train)\n",
        "SVM_pred = svm.predict(X_validation)"
      ],
      "metadata": {
        "id": "UK-U74b7zv4r"
      },
      "execution_count": null,
      "outputs": []
    },
    {
      "cell_type": "markdown",
      "source": [
        "Accuracy of SVM :"
      ],
      "metadata": {
        "id": "tdNz3CGk0HLx"
      }
    },
    {
      "cell_type": "code",
      "source": [
        "print('Accuracy score of the Support Vector Machines model is {}'.format(accuracy_score(y_validation, SVM_pred)))"
      ],
      "metadata": {
        "colab": {
          "base_uri": "https://localhost:8080/"
        },
        "id": "au96dcuK0FgF",
        "outputId": "4a191986-6e76-4d22-a7f9-89b2f83a0d80"
      },
      "execution_count": null,
      "outputs": [
        {
          "output_type": "stream",
          "name": "stdout",
          "text": [
            "Accuracy score of the Support Vector Machines model is 0.9325153374233128\n"
          ]
        }
      ]
    },
    {
      "cell_type": "markdown",
      "source": [
        "F1 Score :"
      ],
      "metadata": {
        "id": "7rD8I3Ls0g3Q"
      }
    },
    {
      "cell_type": "code",
      "source": [
        "print('F1 score of the Support Vector Machines model is {}'.format(f1_score(y_validation, SVM_pred)))"
      ],
      "metadata": {
        "colab": {
          "base_uri": "https://localhost:8080/"
        },
        "id": "4djQ_Lvo0RAq",
        "outputId": "51b71750-2883-45f1-d0ea-2ee65e81d99d"
      },
      "execution_count": null,
      "outputs": [
        {
          "output_type": "stream",
          "name": "stdout",
          "text": [
            "F1 score of the Support Vector Machines model is 0.9043478260869565\n"
          ]
        }
      ]
    },
    {
      "cell_type": "markdown",
      "source": [
        "Confusion Matrix :"
      ],
      "metadata": {
        "id": "hFNxrDEq0nw1"
      }
    },
    {
      "cell_type": "code",
      "source": [
        "confusion_matrix(y_validation, SVM_pred, labels = [0, 1])"
      ],
      "metadata": {
        "colab": {
          "base_uri": "https://localhost:8080/"
        },
        "id": "5CMO4NWt0kAN",
        "outputId": "105c5f7b-c071-4b4e-8ecb-de02cbfa2c0d"
      },
      "execution_count": null,
      "outputs": [
        {
          "output_type": "execute_result",
          "data": {
            "text/plain": [
              "array([[100,   2],\n",
              "       [  9,  52]])"
            ]
          },
          "metadata": {},
          "execution_count": 65
        }
      ]
    },
    {
      "cell_type": "markdown",
      "source": [
        "**XGBoost**"
      ],
      "metadata": {
        "id": "lGTA4_1B2Lf4"
      }
    },
    {
      "cell_type": "code",
      "source": [
        "XGB = XGBClassifier(max_depth = 4)\n",
        "XGB.fit(X_train, y_train)\n",
        "XGB_pred = XGB.predict(X_validation)"
      ],
      "metadata": {
        "id": "YejWu1YK2FnR"
      },
      "execution_count": null,
      "outputs": []
    },
    {
      "cell_type": "markdown",
      "source": [
        "Accuracy of XGBoost :"
      ],
      "metadata": {
        "id": "gfhDwUB92voT"
      }
    },
    {
      "cell_type": "code",
      "source": [
        "print('Accuracy score of the XGBoost model is {}'.format(accuracy_score(y_validation, XGB_pred)))"
      ],
      "metadata": {
        "colab": {
          "base_uri": "https://localhost:8080/"
        },
        "id": "NbjXcJuD2UMV",
        "outputId": "938f0b0f-79c8-4fef-d77e-c4dc414124df"
      },
      "execution_count": null,
      "outputs": [
        {
          "output_type": "stream",
          "name": "stdout",
          "text": [
            "Accuracy score of the XGBoost model is 0.9386503067484663\n"
          ]
        }
      ]
    },
    {
      "cell_type": "markdown",
      "source": [
        "F1 Score :"
      ],
      "metadata": {
        "id": "DmPAbrTW3Jmn"
      }
    },
    {
      "cell_type": "code",
      "source": [
        "print('F1 score of the XGBoost model is {}'.format(f1_score(y_validation, XGB_pred)))"
      ],
      "metadata": {
        "colab": {
          "base_uri": "https://localhost:8080/"
        },
        "id": "4GYOsGZ_3ADi",
        "outputId": "91a0d124-289f-4544-c41b-d2d6882faf62"
      },
      "execution_count": null,
      "outputs": [
        {
          "output_type": "stream",
          "name": "stdout",
          "text": [
            "F1 score of the XGBoost model is 0.9137931034482758\n"
          ]
        }
      ]
    },
    {
      "cell_type": "markdown",
      "source": [
        "Confusion Matrix :"
      ],
      "metadata": {
        "id": "GgU4k6u13Vhg"
      }
    },
    {
      "cell_type": "code",
      "source": [
        "confusion_matrix(y_validation, XGB_pred, labels = [0, 1])"
      ],
      "metadata": {
        "colab": {
          "base_uri": "https://localhost:8080/"
        },
        "id": "fT4GuvEX3I21",
        "outputId": "1771257e-261d-4b68-c7c5-bdaec3252c01"
      },
      "execution_count": null,
      "outputs": [
        {
          "output_type": "execute_result",
          "data": {
            "text/plain": [
              "array([[100,   2],\n",
              "       [  8,  53]])"
            ]
          },
          "metadata": {},
          "execution_count": 69
        }
      ]
    }
  ]
}